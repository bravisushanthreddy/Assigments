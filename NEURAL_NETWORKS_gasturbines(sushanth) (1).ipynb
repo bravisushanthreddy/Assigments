{
  "cells": [
    {
      "cell_type": "markdown",
      "id": "312b5858",
      "metadata": {
        "id": "312b5858"
      },
      "source": [
        "# NEURAL NETWORKS"
      ]
    },
    {
      "cell_type": "markdown",
      "id": "f0acd2de",
      "metadata": {
        "id": "f0acd2de"
      },
      "source": [
        "# Question2"
      ]
    },
    {
      "cell_type": "markdown",
      "id": "962f5fbd",
      "metadata": {
        "id": "962f5fbd"
      },
      "source": [
        "Problem statement: predicting turbine energy yield (TEY) using ambient variables as features."
      ]
    },
    {
      "cell_type": "code",
      "execution_count": null,
      "id": "a93514f9",
      "metadata": {
        "ExecuteTime": {
          "end_time": "2023-02-27T16:06:29.564935Z",
          "start_time": "2023-02-27T16:06:23.939470Z"
        },
        "id": "a93514f9"
      },
      "outputs": [],
      "source": [
        "# IMPORTING REQUIRED LIBRARIES\n",
        "import keras \n",
        "import pandas as pd\n",
        "import numpy as np\n",
        "from sklearn.model_selection import train_test_split, cross_val_score\n",
        "import seaborn as sns\n",
        "from matplotlib import pyplot as plt\n",
        "%matplotlib inline\n",
        "from keras.models import Sequential\n",
        "from keras.layers import Dense\n",
        "import tensorflow as tf\n",
        "tf.debugging.set_log_device_placement(False) \n",
        "import warnings\n",
        "warnings.filterwarnings('ignore')"
      ]
    },
    {
      "cell_type": "code",
      "execution_count": null,
      "id": "98ba17b2",
      "metadata": {
        "ExecuteTime": {
          "end_time": "2023-02-27T16:07:28.334664Z",
          "start_time": "2023-02-27T16:07:28.320577Z"
        },
        "id": "98ba17b2"
      },
      "outputs": [],
      "source": [
        "# Generating reproducible results from same code\n",
        "tf.random.set_seed(14) "
      ]
    },
    {
      "cell_type": "code",
      "execution_count": null,
      "id": "d5fa8c1a",
      "metadata": {
        "ExecuteTime": {
          "end_time": "2023-02-27T16:07:44.762777Z",
          "start_time": "2023-02-27T16:07:44.720879Z"
        },
        "id": "d5fa8c1a",
        "outputId": "4f241347-10ab-4180-a6d2-73501127e6b1"
      },
      "outputs": [
        {
          "data": {
            "text/html": [
              "<div>\n",
              "<style scoped>\n",
              "    .dataframe tbody tr th:only-of-type {\n",
              "        vertical-align: middle;\n",
              "    }\n",
              "\n",
              "    .dataframe tbody tr th {\n",
              "        vertical-align: top;\n",
              "    }\n",
              "\n",
              "    .dataframe thead th {\n",
              "        text-align: right;\n",
              "    }\n",
              "</style>\n",
              "<table border=\"1\" class=\"dataframe\">\n",
              "  <thead>\n",
              "    <tr style=\"text-align: right;\">\n",
              "      <th></th>\n",
              "      <th>AT</th>\n",
              "      <th>AP</th>\n",
              "      <th>AH</th>\n",
              "      <th>AFDP</th>\n",
              "      <th>GTEP</th>\n",
              "      <th>TIT</th>\n",
              "      <th>TAT</th>\n",
              "      <th>TEY</th>\n",
              "      <th>CDP</th>\n",
              "      <th>CO</th>\n",
              "      <th>NOX</th>\n",
              "    </tr>\n",
              "  </thead>\n",
              "  <tbody>\n",
              "    <tr>\n",
              "      <th>0</th>\n",
              "      <td>6.8594</td>\n",
              "      <td>1007.9</td>\n",
              "      <td>96.799</td>\n",
              "      <td>3.5000</td>\n",
              "      <td>19.663</td>\n",
              "      <td>1059.2</td>\n",
              "      <td>550.00</td>\n",
              "      <td>114.70</td>\n",
              "      <td>10.605</td>\n",
              "      <td>3.1547</td>\n",
              "      <td>82.722</td>\n",
              "    </tr>\n",
              "    <tr>\n",
              "      <th>1</th>\n",
              "      <td>6.7850</td>\n",
              "      <td>1008.4</td>\n",
              "      <td>97.118</td>\n",
              "      <td>3.4998</td>\n",
              "      <td>19.728</td>\n",
              "      <td>1059.3</td>\n",
              "      <td>550.00</td>\n",
              "      <td>114.72</td>\n",
              "      <td>10.598</td>\n",
              "      <td>3.2363</td>\n",
              "      <td>82.776</td>\n",
              "    </tr>\n",
              "    <tr>\n",
              "      <th>2</th>\n",
              "      <td>6.8977</td>\n",
              "      <td>1008.8</td>\n",
              "      <td>95.939</td>\n",
              "      <td>3.4824</td>\n",
              "      <td>19.779</td>\n",
              "      <td>1059.4</td>\n",
              "      <td>549.87</td>\n",
              "      <td>114.71</td>\n",
              "      <td>10.601</td>\n",
              "      <td>3.2012</td>\n",
              "      <td>82.468</td>\n",
              "    </tr>\n",
              "    <tr>\n",
              "      <th>3</th>\n",
              "      <td>7.0569</td>\n",
              "      <td>1009.2</td>\n",
              "      <td>95.249</td>\n",
              "      <td>3.4805</td>\n",
              "      <td>19.792</td>\n",
              "      <td>1059.6</td>\n",
              "      <td>549.99</td>\n",
              "      <td>114.72</td>\n",
              "      <td>10.606</td>\n",
              "      <td>3.1923</td>\n",
              "      <td>82.670</td>\n",
              "    </tr>\n",
              "    <tr>\n",
              "      <th>4</th>\n",
              "      <td>7.3978</td>\n",
              "      <td>1009.7</td>\n",
              "      <td>95.150</td>\n",
              "      <td>3.4976</td>\n",
              "      <td>19.765</td>\n",
              "      <td>1059.7</td>\n",
              "      <td>549.98</td>\n",
              "      <td>114.72</td>\n",
              "      <td>10.612</td>\n",
              "      <td>3.2484</td>\n",
              "      <td>82.311</td>\n",
              "    </tr>\n",
              "  </tbody>\n",
              "</table>\n",
              "</div>"
            ],
            "text/plain": [
              "       AT      AP      AH    AFDP    GTEP     TIT     TAT     TEY     CDP  \\\n",
              "0  6.8594  1007.9  96.799  3.5000  19.663  1059.2  550.00  114.70  10.605   \n",
              "1  6.7850  1008.4  97.118  3.4998  19.728  1059.3  550.00  114.72  10.598   \n",
              "2  6.8977  1008.8  95.939  3.4824  19.779  1059.4  549.87  114.71  10.601   \n",
              "3  7.0569  1009.2  95.249  3.4805  19.792  1059.6  549.99  114.72  10.606   \n",
              "4  7.3978  1009.7  95.150  3.4976  19.765  1059.7  549.98  114.72  10.612   \n",
              "\n",
              "       CO     NOX  \n",
              "0  3.1547  82.722  \n",
              "1  3.2363  82.776  \n",
              "2  3.2012  82.468  \n",
              "3  3.1923  82.670  \n",
              "4  3.2484  82.311  "
            ]
          },
          "execution_count": 4,
          "metadata": {},
          "output_type": "execute_result"
        }
      ],
      "source": [
        "raw = pd.read_csv(\"gas_turbines.csv\")\n",
        "raw.head() \n",
        "#TEY is the variable we should predict."
      ]
    },
    {
      "cell_type": "code",
      "execution_count": null,
      "id": "bd6e8e05",
      "metadata": {
        "ExecuteTime": {
          "end_time": "2023-02-27T16:07:54.131541Z",
          "start_time": "2023-02-27T16:07:54.116516Z"
        },
        "id": "bd6e8e05",
        "outputId": "2e20260c-a6bb-4bc6-82dd-085e9d77ba4f"
      },
      "outputs": [
        {
          "data": {
            "text/html": [
              "<div>\n",
              "<style scoped>\n",
              "    .dataframe tbody tr th:only-of-type {\n",
              "        vertical-align: middle;\n",
              "    }\n",
              "\n",
              "    .dataframe tbody tr th {\n",
              "        vertical-align: top;\n",
              "    }\n",
              "\n",
              "    .dataframe thead th {\n",
              "        text-align: right;\n",
              "    }\n",
              "</style>\n",
              "<table border=\"1\" class=\"dataframe\">\n",
              "  <thead>\n",
              "    <tr style=\"text-align: right;\">\n",
              "      <th></th>\n",
              "      <th>AT</th>\n",
              "      <th>AP</th>\n",
              "      <th>AH</th>\n",
              "      <th>TEY</th>\n",
              "    </tr>\n",
              "  </thead>\n",
              "  <tbody>\n",
              "    <tr>\n",
              "      <th>0</th>\n",
              "      <td>6.8594</td>\n",
              "      <td>1007.9</td>\n",
              "      <td>96.799</td>\n",
              "      <td>114.70</td>\n",
              "    </tr>\n",
              "    <tr>\n",
              "      <th>1</th>\n",
              "      <td>6.7850</td>\n",
              "      <td>1008.4</td>\n",
              "      <td>97.118</td>\n",
              "      <td>114.72</td>\n",
              "    </tr>\n",
              "    <tr>\n",
              "      <th>2</th>\n",
              "      <td>6.8977</td>\n",
              "      <td>1008.8</td>\n",
              "      <td>95.939</td>\n",
              "      <td>114.71</td>\n",
              "    </tr>\n",
              "    <tr>\n",
              "      <th>3</th>\n",
              "      <td>7.0569</td>\n",
              "      <td>1009.2</td>\n",
              "      <td>95.249</td>\n",
              "      <td>114.72</td>\n",
              "    </tr>\n",
              "    <tr>\n",
              "      <th>4</th>\n",
              "      <td>7.3978</td>\n",
              "      <td>1009.7</td>\n",
              "      <td>95.150</td>\n",
              "      <td>114.72</td>\n",
              "    </tr>\n",
              "  </tbody>\n",
              "</table>\n",
              "</div>"
            ],
            "text/plain": [
              "       AT      AP      AH     TEY\n",
              "0  6.8594  1007.9  96.799  114.70\n",
              "1  6.7850  1008.4  97.118  114.72\n",
              "2  6.8977  1008.8  95.939  114.71\n",
              "3  7.0569  1009.2  95.249  114.72\n",
              "4  7.3978  1009.7  95.150  114.72"
            ]
          },
          "execution_count": 5,
          "metadata": {},
          "output_type": "execute_result"
        }
      ],
      "source": [
        "df = raw.copy() \n",
        "df = df.drop(['AFDP','GTEP','TIT','TAT','CDP','CO','NOX'],axis=1)\n",
        "df.head()\n"
      ]
    },
    {
      "cell_type": "code",
      "execution_count": null,
      "id": "542a4844",
      "metadata": {
        "ExecuteTime": {
          "end_time": "2023-02-27T16:08:01.481308Z",
          "start_time": "2023-02-27T16:08:01.463366Z"
        },
        "id": "542a4844",
        "outputId": "694905ca-fbca-4c34-f9a3-2f270ef44929"
      },
      "outputs": [
        {
          "name": "stdout",
          "output_type": "stream",
          "text": [
            "<class 'pandas.core.frame.DataFrame'>\n",
            "RangeIndex: 15039 entries, 0 to 15038\n",
            "Data columns (total 4 columns):\n",
            " #   Column  Non-Null Count  Dtype  \n",
            "---  ------  --------------  -----  \n",
            " 0   AT      15039 non-null  float64\n",
            " 1   AP      15039 non-null  float64\n",
            " 2   AH      15039 non-null  float64\n",
            " 3   TEY     15039 non-null  float64\n",
            "dtypes: float64(4)\n",
            "memory usage: 470.1 KB\n"
          ]
        }
      ],
      "source": [
        "df.info()"
      ]
    },
    {
      "cell_type": "code",
      "execution_count": null,
      "id": "231c7bd2",
      "metadata": {
        "ExecuteTime": {
          "end_time": "2023-02-27T16:08:08.880518Z",
          "start_time": "2023-02-27T16:08:08.849267Z"
        },
        "id": "231c7bd2",
        "outputId": "22d7c7df-f6ef-4d6e-bcd3-322c0a582bbd"
      },
      "outputs": [
        {
          "data": {
            "text/html": [
              "<div>\n",
              "<style scoped>\n",
              "    .dataframe tbody tr th:only-of-type {\n",
              "        vertical-align: middle;\n",
              "    }\n",
              "\n",
              "    .dataframe tbody tr th {\n",
              "        vertical-align: top;\n",
              "    }\n",
              "\n",
              "    .dataframe thead th {\n",
              "        text-align: right;\n",
              "    }\n",
              "</style>\n",
              "<table border=\"1\" class=\"dataframe\">\n",
              "  <thead>\n",
              "    <tr style=\"text-align: right;\">\n",
              "      <th></th>\n",
              "      <th>AT</th>\n",
              "      <th>AP</th>\n",
              "      <th>AH</th>\n",
              "      <th>TEY</th>\n",
              "    </tr>\n",
              "  </thead>\n",
              "  <tbody>\n",
              "    <tr>\n",
              "      <th>count</th>\n",
              "      <td>15039.000000</td>\n",
              "      <td>15039.00000</td>\n",
              "      <td>15039.000000</td>\n",
              "      <td>15039.000000</td>\n",
              "    </tr>\n",
              "    <tr>\n",
              "      <th>mean</th>\n",
              "      <td>17.764381</td>\n",
              "      <td>1013.19924</td>\n",
              "      <td>79.124174</td>\n",
              "      <td>134.188464</td>\n",
              "    </tr>\n",
              "    <tr>\n",
              "      <th>std</th>\n",
              "      <td>7.574323</td>\n",
              "      <td>6.41076</td>\n",
              "      <td>13.793439</td>\n",
              "      <td>15.829717</td>\n",
              "    </tr>\n",
              "    <tr>\n",
              "      <th>min</th>\n",
              "      <td>0.522300</td>\n",
              "      <td>985.85000</td>\n",
              "      <td>30.344000</td>\n",
              "      <td>100.170000</td>\n",
              "    </tr>\n",
              "    <tr>\n",
              "      <th>25%</th>\n",
              "      <td>11.408000</td>\n",
              "      <td>1008.90000</td>\n",
              "      <td>69.750000</td>\n",
              "      <td>127.985000</td>\n",
              "    </tr>\n",
              "    <tr>\n",
              "      <th>50%</th>\n",
              "      <td>18.186000</td>\n",
              "      <td>1012.80000</td>\n",
              "      <td>82.266000</td>\n",
              "      <td>133.780000</td>\n",
              "    </tr>\n",
              "    <tr>\n",
              "      <th>75%</th>\n",
              "      <td>23.862500</td>\n",
              "      <td>1016.90000</td>\n",
              "      <td>90.043500</td>\n",
              "      <td>140.895000</td>\n",
              "    </tr>\n",
              "    <tr>\n",
              "      <th>max</th>\n",
              "      <td>34.929000</td>\n",
              "      <td>1034.20000</td>\n",
              "      <td>100.200000</td>\n",
              "      <td>174.610000</td>\n",
              "    </tr>\n",
              "  </tbody>\n",
              "</table>\n",
              "</div>"
            ],
            "text/plain": [
              "                 AT           AP            AH           TEY\n",
              "count  15039.000000  15039.00000  15039.000000  15039.000000\n",
              "mean      17.764381   1013.19924     79.124174    134.188464\n",
              "std        7.574323      6.41076     13.793439     15.829717\n",
              "min        0.522300    985.85000     30.344000    100.170000\n",
              "25%       11.408000   1008.90000     69.750000    127.985000\n",
              "50%       18.186000   1012.80000     82.266000    133.780000\n",
              "75%       23.862500   1016.90000     90.043500    140.895000\n",
              "max       34.929000   1034.20000    100.200000    174.610000"
            ]
          },
          "execution_count": 7,
          "metadata": {},
          "output_type": "execute_result"
        }
      ],
      "source": [
        "df.describe()"
      ]
    },
    {
      "cell_type": "markdown",
      "id": "49dcb9ad",
      "metadata": {
        "id": "49dcb9ad"
      },
      "source": [
        ">>>>>Feature Analysis<<<<<\n",
        "All features in the dataset can be used in model building. This is a Regression Problem"
      ]
    },
    {
      "cell_type": "code",
      "execution_count": null,
      "id": "b4b309f6",
      "metadata": {
        "ExecuteTime": {
          "end_time": "2023-02-27T16:09:28.404688Z",
          "start_time": "2023-02-27T16:09:28.395637Z"
        },
        "id": "b4b309f6"
      },
      "outputs": [],
      "source": [
        "X =df.iloc[:,:-1]\n",
        "Y = df.iloc[:,-1]\n",
        "\n",
        "\n",
        "X_train, X_test, y_train, y_test = train_test_split(X,Y, test_size = 0.3)"
      ]
    },
    {
      "cell_type": "markdown",
      "id": "88bc5e3c",
      "metadata": {
        "id": "88bc5e3c"
      },
      "source": [
        "A common mistake when configuring a neural network is to first normalize the data before splitting the data."
      ]
    },
    {
      "cell_type": "code",
      "execution_count": null,
      "id": "e8d89f7f",
      "metadata": {
        "ExecuteTime": {
          "end_time": "2023-02-27T16:09:53.564247Z",
          "start_time": "2023-02-27T16:09:53.547305Z"
        },
        "id": "e8d89f7f"
      },
      "outputs": [],
      "source": [
        "y_train=np.reshape(y_train.to_numpy(), (-1,1)) \n",
        "y_test=np.reshape(y_test.to_numpy(), (-1,1)) "
      ]
    },
    {
      "cell_type": "code",
      "execution_count": null,
      "id": "52c647be",
      "metadata": {
        "ExecuteTime": {
          "end_time": "2023-02-27T16:10:03.701567Z",
          "start_time": "2023-02-27T16:10:03.675760Z"
        },
        "id": "52c647be",
        "outputId": "815ac700-12d1-401f-e960-8d375e3d5fff"
      },
      "outputs": [
        {
          "name": "stdout",
          "output_type": "stream",
          "text": [
            "MinMaxScaler()\n",
            "MinMaxScaler()\n",
            "MinMaxScaler()\n",
            "MinMaxScaler()\n"
          ]
        }
      ],
      "source": [
        "from sklearn.preprocessing import MinMaxScaler\n",
        "\n",
        "scaler_x = MinMaxScaler()\n",
        "scaler_y = MinMaxScaler()\n",
        "\n",
        "print(scaler_x.fit(X_train))\n",
        "xtrain_scale=scaler_x.transform(X_train)\n",
        "\n",
        "print(scaler_x.fit(X_test))\n",
        "xtest_scale=scaler_x.transform(X_test)\n",
        "\n",
        "print(scaler_y.fit(y_train))\n",
        "ytrain_scale=scaler_y.transform(y_train)\n",
        "\n",
        "print(scaler_y.fit(y_test))\n",
        "ytest_scale=scaler_y.transform(y_test)"
      ]
    },
    {
      "cell_type": "code",
      "execution_count": null,
      "id": "c073abd5",
      "metadata": {
        "ExecuteTime": {
          "end_time": "2023-02-27T16:10:10.767965Z",
          "start_time": "2023-02-27T16:10:10.755013Z"
        },
        "id": "c073abd5",
        "outputId": "f483a583-824b-4838-996e-b699361df13a"
      },
      "outputs": [
        {
          "data": {
            "text/plain": [
              "10527"
            ]
          },
          "execution_count": 11,
          "metadata": {},
          "output_type": "execute_result"
        }
      ],
      "source": [
        "len(xtrain_scale)"
      ]
    },
    {
      "cell_type": "markdown",
      "id": "72803ae3",
      "metadata": {
        "id": "72803ae3"
      },
      "source": [
        "# Neural Network Modelling\n"
      ]
    },
    {
      "cell_type": "markdown",
      "id": "3f894405",
      "metadata": {
        "id": "3f894405"
      },
      "source": [
        "# Building the Model"
      ]
    },
    {
      "cell_type": "code",
      "execution_count": null,
      "id": "47a14a33",
      "metadata": {
        "ExecuteTime": {
          "end_time": "2023-02-27T16:11:31.822119Z",
          "start_time": "2023-02-27T16:11:05.023001Z"
        },
        "id": "47a14a33",
        "outputId": "7df49cb5-edcb-47f0-a055-ca2e88345a27"
      },
      "outputs": [
        {
          "name": "stdout",
          "output_type": "stream",
          "text": [
            "Epoch 1/100\n",
            "48/48 [==============================] - 1s 7ms/step - loss: 0.0711 - mse: 0.0711 - mae: 0.2066 - val_loss: 0.0450 - val_mse: 0.0450 - val_mae: 0.1548\n",
            "Epoch 2/100\n",
            "48/48 [==============================] - 0s 4ms/step - loss: 0.0443 - mse: 0.0443 - mae: 0.1556 - val_loss: 0.0438 - val_mse: 0.0438 - val_mae: 0.1546\n",
            "Epoch 3/100\n",
            "48/48 [==============================] - 0s 4ms/step - loss: 0.0432 - mse: 0.0432 - mae: 0.1550 - val_loss: 0.0433 - val_mse: 0.0433 - val_mae: 0.1561\n",
            "Epoch 4/100\n",
            "48/48 [==============================] - 0s 6ms/step - loss: 0.0422 - mse: 0.0422 - mae: 0.1560 - val_loss: 0.0429 - val_mse: 0.0429 - val_mae: 0.1581\n",
            "Epoch 5/100\n",
            "48/48 [==============================] - 0s 5ms/step - loss: 0.0418 - mse: 0.0418 - mae: 0.1583 - val_loss: 0.0421 - val_mse: 0.0421 - val_mae: 0.1574\n",
            "Epoch 6/100\n",
            "48/48 [==============================] - 0s 5ms/step - loss: 0.0418 - mse: 0.0418 - mae: 0.1590 - val_loss: 0.0414 - val_mse: 0.0414 - val_mae: 0.1569\n",
            "Epoch 7/100\n",
            "48/48 [==============================] - 0s 5ms/step - loss: 0.0419 - mse: 0.0419 - mae: 0.1597 - val_loss: 0.0415 - val_mse: 0.0415 - val_mae: 0.1572\n",
            "Epoch 8/100\n",
            "48/48 [==============================] - 0s 5ms/step - loss: 0.0412 - mse: 0.0412 - mae: 0.1583 - val_loss: 0.0420 - val_mse: 0.0420 - val_mae: 0.1586\n",
            "Epoch 9/100\n",
            "48/48 [==============================] - 0s 5ms/step - loss: 0.0410 - mse: 0.0410 - mae: 0.1581 - val_loss: 0.0411 - val_mse: 0.0411 - val_mae: 0.1577\n",
            "Epoch 10/100\n",
            "48/48 [==============================] - 0s 5ms/step - loss: 0.0410 - mse: 0.0410 - mae: 0.1591 - val_loss: 0.0410 - val_mse: 0.0410 - val_mae: 0.1570\n",
            "Epoch 11/100\n",
            "48/48 [==============================] - 0s 5ms/step - loss: 0.0409 - mse: 0.0409 - mae: 0.1575 - val_loss: 0.0409 - val_mse: 0.0409 - val_mae: 0.1574\n",
            "Epoch 12/100\n",
            "48/48 [==============================] - 0s 5ms/step - loss: 0.0412 - mse: 0.0412 - mae: 0.1599 - val_loss: 0.0418 - val_mse: 0.0418 - val_mae: 0.1590\n",
            "Epoch 13/100\n",
            "48/48 [==============================] - 0s 6ms/step - loss: 0.0407 - mse: 0.0407 - mae: 0.1584 - val_loss: 0.0408 - val_mse: 0.0408 - val_mae: 0.1583\n",
            "Epoch 14/100\n",
            "48/48 [==============================] - 0s 5ms/step - loss: 0.0403 - mse: 0.0403 - mae: 0.1577 - val_loss: 0.0422 - val_mse: 0.0422 - val_mae: 0.1611\n",
            "Epoch 15/100\n",
            "48/48 [==============================] - 0s 5ms/step - loss: 0.0404 - mse: 0.0404 - mae: 0.1589 - val_loss: 0.0405 - val_mse: 0.0405 - val_mae: 0.1573\n",
            "Epoch 16/100\n",
            "48/48 [==============================] - 0s 5ms/step - loss: 0.0403 - mse: 0.0403 - mae: 0.1581 - val_loss: 0.0404 - val_mse: 0.0404 - val_mae: 0.1595\n",
            "Epoch 17/100\n",
            "48/48 [==============================] - 0s 5ms/step - loss: 0.0401 - mse: 0.0401 - mae: 0.1584 - val_loss: 0.0401 - val_mse: 0.0401 - val_mae: 0.1569\n",
            "Epoch 18/100\n",
            "48/48 [==============================] - 0s 5ms/step - loss: 0.0398 - mse: 0.0398 - mae: 0.1571 - val_loss: 0.0401 - val_mse: 0.0401 - val_mae: 0.1570\n",
            "Epoch 19/100\n",
            "48/48 [==============================] - 0s 5ms/step - loss: 0.0400 - mse: 0.0400 - mae: 0.1572 - val_loss: 0.0406 - val_mse: 0.0406 - val_mae: 0.1599\n",
            "Epoch 20/100\n",
            "48/48 [==============================] - 0s 5ms/step - loss: 0.0403 - mse: 0.0403 - mae: 0.1583 - val_loss: 0.0419 - val_mse: 0.0419 - val_mae: 0.1642\n",
            "Epoch 21/100\n",
            "48/48 [==============================] - 0s 5ms/step - loss: 0.0400 - mse: 0.0400 - mae: 0.1577 - val_loss: 0.0403 - val_mse: 0.0403 - val_mae: 0.1573\n",
            "Epoch 22/100\n",
            "48/48 [==============================] - 0s 6ms/step - loss: 0.0394 - mse: 0.0394 - mae: 0.1570 - val_loss: 0.0397 - val_mse: 0.0397 - val_mae: 0.1563\n",
            "Epoch 23/100\n",
            "48/48 [==============================] - 0s 5ms/step - loss: 0.0393 - mse: 0.0393 - mae: 0.1572 - val_loss: 0.0393 - val_mse: 0.0393 - val_mae: 0.1558\n",
            "Epoch 24/100\n",
            "48/48 [==============================] - 0s 5ms/step - loss: 0.0392 - mse: 0.0392 - mae: 0.1564 - val_loss: 0.0393 - val_mse: 0.0393 - val_mae: 0.1564\n",
            "Epoch 25/100\n",
            "48/48 [==============================] - 0s 5ms/step - loss: 0.0391 - mse: 0.0391 - mae: 0.1567 - val_loss: 0.0398 - val_mse: 0.0398 - val_mae: 0.1567\n",
            "Epoch 26/100\n",
            "48/48 [==============================] - 0s 6ms/step - loss: 0.0391 - mse: 0.0391 - mae: 0.1566 - val_loss: 0.0399 - val_mse: 0.0399 - val_mae: 0.1576\n",
            "Epoch 27/100\n",
            "48/48 [==============================] - 0s 6ms/step - loss: 0.0395 - mse: 0.0395 - mae: 0.1570 - val_loss: 0.0391 - val_mse: 0.0391 - val_mae: 0.1555\n",
            "Epoch 28/100\n",
            "48/48 [==============================] - 0s 5ms/step - loss: 0.0393 - mse: 0.0393 - mae: 0.1565 - val_loss: 0.0391 - val_mse: 0.0391 - val_mae: 0.1564\n",
            "Epoch 29/100\n",
            "48/48 [==============================] - 0s 5ms/step - loss: 0.0394 - mse: 0.0394 - mae: 0.1582 - val_loss: 0.0391 - val_mse: 0.0391 - val_mae: 0.1552\n",
            "Epoch 30/100\n",
            "48/48 [==============================] - 0s 5ms/step - loss: 0.0390 - mse: 0.0390 - mae: 0.1564 - val_loss: 0.0399 - val_mse: 0.0399 - val_mae: 0.1580\n",
            "Epoch 31/100\n",
            "48/48 [==============================] - 0s 5ms/step - loss: 0.0395 - mse: 0.0395 - mae: 0.1580 - val_loss: 0.0405 - val_mse: 0.0405 - val_mae: 0.1589\n",
            "Epoch 32/100\n",
            "48/48 [==============================] - 0s 5ms/step - loss: 0.0395 - mse: 0.0395 - mae: 0.1571 - val_loss: 0.0390 - val_mse: 0.0390 - val_mae: 0.1555\n",
            "Epoch 33/100\n",
            "48/48 [==============================] - 0s 5ms/step - loss: 0.0395 - mse: 0.0395 - mae: 0.1571 - val_loss: 0.0396 - val_mse: 0.0396 - val_mae: 0.1571\n",
            "Epoch 34/100\n",
            "48/48 [==============================] - 0s 5ms/step - loss: 0.0396 - mse: 0.0396 - mae: 0.1576 - val_loss: 0.0391 - val_mse: 0.0391 - val_mae: 0.1555\n",
            "Epoch 35/100\n",
            "48/48 [==============================] - 0s 5ms/step - loss: 0.0396 - mse: 0.0396 - mae: 0.1574 - val_loss: 0.0419 - val_mse: 0.0419 - val_mae: 0.1624\n",
            "Epoch 36/100\n",
            "48/48 [==============================] - 0s 7ms/step - loss: 0.0405 - mse: 0.0405 - mae: 0.1599 - val_loss: 0.0394 - val_mse: 0.0394 - val_mae: 0.1558\n",
            "Epoch 37/100\n",
            "48/48 [==============================] - 0s 5ms/step - loss: 0.0393 - mse: 0.0393 - mae: 0.1573 - val_loss: 0.0392 - val_mse: 0.0392 - val_mae: 0.1557\n",
            "Epoch 38/100\n",
            "48/48 [==============================] - 0s 5ms/step - loss: 0.0389 - mse: 0.0389 - mae: 0.1555 - val_loss: 0.0396 - val_mse: 0.0396 - val_mae: 0.1571\n",
            "Epoch 39/100\n",
            "48/48 [==============================] - 0s 5ms/step - loss: 0.0392 - mse: 0.0392 - mae: 0.1568 - val_loss: 0.0390 - val_mse: 0.0390 - val_mae: 0.1555\n",
            "Epoch 40/100\n",
            "48/48 [==============================] - 0s 5ms/step - loss: 0.0390 - mse: 0.0390 - mae: 0.1561 - val_loss: 0.0391 - val_mse: 0.0391 - val_mae: 0.1564\n",
            "Epoch 41/100\n",
            "48/48 [==============================] - 0s 5ms/step - loss: 0.0389 - mse: 0.0389 - mae: 0.1562 - val_loss: 0.0391 - val_mse: 0.0391 - val_mae: 0.1554\n",
            "Epoch 42/100\n",
            "48/48 [==============================] - 0s 5ms/step - loss: 0.0389 - mse: 0.0389 - mae: 0.1566 - val_loss: 0.0406 - val_mse: 0.0406 - val_mae: 0.1596\n",
            "Epoch 43/100\n",
            "48/48 [==============================] - 0s 6ms/step - loss: 0.0394 - mse: 0.0394 - mae: 0.1572 - val_loss: 0.0391 - val_mse: 0.0391 - val_mae: 0.1555\n",
            "Epoch 44/100\n",
            "48/48 [==============================] - 0s 4ms/step - loss: 0.0389 - mse: 0.0389 - mae: 0.1556 - val_loss: 0.0422 - val_mse: 0.0422 - val_mae: 0.1636\n",
            "Epoch 45/100\n",
            "48/48 [==============================] - 0s 6ms/step - loss: 0.0393 - mse: 0.0393 - mae: 0.1571 - val_loss: 0.0411 - val_mse: 0.0411 - val_mae: 0.1613\n",
            "Epoch 46/100\n",
            "48/48 [==============================] - 0s 6ms/step - loss: 0.0407 - mse: 0.0407 - mae: 0.1602 - val_loss: 0.0392 - val_mse: 0.0392 - val_mae: 0.1561\n",
            "Epoch 47/100\n",
            "48/48 [==============================] - 0s 5ms/step - loss: 0.0403 - mse: 0.0403 - mae: 0.1577 - val_loss: 0.0392 - val_mse: 0.0392 - val_mae: 0.1555\n",
            "Epoch 48/100\n",
            "48/48 [==============================] - 0s 4ms/step - loss: 0.0391 - mse: 0.0391 - mae: 0.1559 - val_loss: 0.0393 - val_mse: 0.0393 - val_mae: 0.1561\n",
            "Epoch 49/100\n",
            "48/48 [==============================] - 0s 5ms/step - loss: 0.0390 - mse: 0.0390 - mae: 0.1560 - val_loss: 0.0390 - val_mse: 0.0390 - val_mae: 0.1547\n",
            "Epoch 50/100\n",
            "48/48 [==============================] - 0s 6ms/step - loss: 0.0388 - mse: 0.0388 - mae: 0.1549 - val_loss: 0.0405 - val_mse: 0.0405 - val_mae: 0.1605\n",
            "Epoch 51/100\n",
            "48/48 [==============================] - 0s 5ms/step - loss: 0.0396 - mse: 0.0396 - mae: 0.1576 - val_loss: 0.0411 - val_mse: 0.0411 - val_mae: 0.1603\n",
            "Epoch 52/100\n",
            "48/48 [==============================] - 0s 6ms/step - loss: 0.0394 - mse: 0.0394 - mae: 0.1572 - val_loss: 0.0391 - val_mse: 0.0391 - val_mae: 0.1561\n",
            "Epoch 53/100\n",
            "48/48 [==============================] - 0s 5ms/step - loss: 0.0388 - mse: 0.0388 - mae: 0.1554 - val_loss: 0.0392 - val_mse: 0.0392 - val_mae: 0.1567\n",
            "Epoch 54/100\n",
            "48/48 [==============================] - 0s 5ms/step - loss: 0.0390 - mse: 0.0390 - mae: 0.1565 - val_loss: 0.0409 - val_mse: 0.0409 - val_mae: 0.1605\n",
            "Epoch 55/100\n",
            "48/48 [==============================] - 0s 5ms/step - loss: 0.0393 - mse: 0.0393 - mae: 0.1568 - val_loss: 0.0389 - val_mse: 0.0389 - val_mae: 0.1554\n",
            "Epoch 56/100\n",
            "48/48 [==============================] - 0s 6ms/step - loss: 0.0388 - mse: 0.0388 - mae: 0.1558 - val_loss: 0.0400 - val_mse: 0.0400 - val_mae: 0.1584\n",
            "Epoch 57/100\n",
            "48/48 [==============================] - 0s 5ms/step - loss: 0.0392 - mse: 0.0392 - mae: 0.1570 - val_loss: 0.0396 - val_mse: 0.0396 - val_mae: 0.1573\n",
            "Epoch 58/100\n",
            "48/48 [==============================] - 0s 4ms/step - loss: 0.0389 - mse: 0.0389 - mae: 0.1563 - val_loss: 0.0390 - val_mse: 0.0390 - val_mae: 0.1556\n",
            "Epoch 59/100\n",
            "48/48 [==============================] - 0s 5ms/step - loss: 0.0387 - mse: 0.0387 - mae: 0.1559 - val_loss: 0.0388 - val_mse: 0.0388 - val_mae: 0.1545\n",
            "Epoch 60/100\n",
            "48/48 [==============================] - 0s 5ms/step - loss: 0.0388 - mse: 0.0388 - mae: 0.1556 - val_loss: 0.0395 - val_mse: 0.0395 - val_mae: 0.1570\n",
            "Epoch 61/100\n",
            "48/48 [==============================] - 0s 5ms/step - loss: 0.0386 - mse: 0.0386 - mae: 0.1550 - val_loss: 0.0388 - val_mse: 0.0388 - val_mae: 0.1549\n",
            "Epoch 62/100\n",
            "48/48 [==============================] - 0s 5ms/step - loss: 0.0387 - mse: 0.0387 - mae: 0.1553 - val_loss: 0.0392 - val_mse: 0.0392 - val_mae: 0.1563\n",
            "Epoch 63/100\n",
            "48/48 [==============================] - 0s 5ms/step - loss: 0.0387 - mse: 0.0387 - mae: 0.1552 - val_loss: 0.0389 - val_mse: 0.0389 - val_mae: 0.1552\n",
            "Epoch 64/100\n",
            "48/48 [==============================] - 0s 5ms/step - loss: 0.0387 - mse: 0.0387 - mae: 0.1554 - val_loss: 0.0388 - val_mse: 0.0388 - val_mae: 0.1546\n",
            "Epoch 65/100\n",
            "48/48 [==============================] - 0s 4ms/step - loss: 0.0391 - mse: 0.0391 - mae: 0.1558 - val_loss: 0.0386 - val_mse: 0.0386 - val_mae: 0.1540\n",
            "Epoch 66/100\n",
            "48/48 [==============================] - 0s 6ms/step - loss: 0.0389 - mse: 0.0389 - mae: 0.1549 - val_loss: 0.0394 - val_mse: 0.0394 - val_mae: 0.1568\n",
            "Epoch 67/100\n",
            "48/48 [==============================] - 0s 6ms/step - loss: 0.0390 - mse: 0.0390 - mae: 0.1564 - val_loss: 0.0389 - val_mse: 0.0389 - val_mae: 0.1550\n",
            "Epoch 68/100\n",
            "48/48 [==============================] - 0s 4ms/step - loss: 0.0395 - mse: 0.0395 - mae: 0.1572 - val_loss: 0.0386 - val_mse: 0.0386 - val_mae: 0.1535\n",
            "Epoch 69/100\n",
            "48/48 [==============================] - 0s 5ms/step - loss: 0.0401 - mse: 0.0401 - mae: 0.1586 - val_loss: 0.0398 - val_mse: 0.0398 - val_mae: 0.1565\n",
            "Epoch 70/100\n",
            "48/48 [==============================] - 0s 6ms/step - loss: 0.0387 - mse: 0.0387 - mae: 0.1549 - val_loss: 0.0391 - val_mse: 0.0391 - val_mae: 0.1545\n",
            "Epoch 71/100\n",
            "48/48 [==============================] - 0s 7ms/step - loss: 0.0386 - mse: 0.0386 - mae: 0.1549 - val_loss: 0.0387 - val_mse: 0.0387 - val_mae: 0.1543\n",
            "Epoch 72/100\n",
            "48/48 [==============================] - 0s 6ms/step - loss: 0.0387 - mse: 0.0387 - mae: 0.1550 - val_loss: 0.0398 - val_mse: 0.0398 - val_mae: 0.1582\n",
            "Epoch 73/100\n",
            "48/48 [==============================] - 0s 6ms/step - loss: 0.0395 - mse: 0.0395 - mae: 0.1569 - val_loss: 0.0384 - val_mse: 0.0384 - val_mae: 0.1533\n",
            "Epoch 74/100\n",
            "48/48 [==============================] - 0s 7ms/step - loss: 0.0384 - mse: 0.0384 - mae: 0.1539 - val_loss: 0.0386 - val_mse: 0.0386 - val_mae: 0.1536\n",
            "Epoch 75/100\n",
            "48/48 [==============================] - 0s 7ms/step - loss: 0.0387 - mse: 0.0387 - mae: 0.1552 - val_loss: 0.0390 - val_mse: 0.0390 - val_mae: 0.1558\n",
            "Epoch 76/100\n",
            "48/48 [==============================] - 0s 6ms/step - loss: 0.0384 - mse: 0.0384 - mae: 0.1541 - val_loss: 0.0384 - val_mse: 0.0384 - val_mae: 0.1543\n",
            "Epoch 77/100\n",
            "48/48 [==============================] - 0s 6ms/step - loss: 0.0387 - mse: 0.0387 - mae: 0.1553 - val_loss: 0.0398 - val_mse: 0.0398 - val_mae: 0.1583\n",
            "Epoch 78/100\n",
            "48/48 [==============================] - 0s 7ms/step - loss: 0.0400 - mse: 0.0400 - mae: 0.1585 - val_loss: 0.0384 - val_mse: 0.0384 - val_mae: 0.1532\n",
            "Epoch 79/100\n",
            "48/48 [==============================] - 0s 5ms/step - loss: 0.0384 - mse: 0.0384 - mae: 0.1542 - val_loss: 0.0384 - val_mse: 0.0384 - val_mae: 0.1536\n",
            "Epoch 80/100\n",
            "48/48 [==============================] - 0s 6ms/step - loss: 0.0383 - mse: 0.0383 - mae: 0.1540 - val_loss: 0.0392 - val_mse: 0.0392 - val_mae: 0.1571\n",
            "Epoch 81/100\n",
            "48/48 [==============================] - 0s 6ms/step - loss: 0.0387 - mse: 0.0387 - mae: 0.1559 - val_loss: 0.0383 - val_mse: 0.0383 - val_mae: 0.1539\n",
            "Epoch 82/100\n",
            "48/48 [==============================] - 0s 6ms/step - loss: 0.0383 - mse: 0.0383 - mae: 0.1543 - val_loss: 0.0389 - val_mse: 0.0389 - val_mae: 0.1555\n",
            "Epoch 83/100\n",
            "48/48 [==============================] - 0s 4ms/step - loss: 0.0384 - mse: 0.0384 - mae: 0.1541 - val_loss: 0.0383 - val_mse: 0.0383 - val_mae: 0.1532\n",
            "Epoch 84/100\n",
            "48/48 [==============================] - 0s 4ms/step - loss: 0.0384 - mse: 0.0384 - mae: 0.1544 - val_loss: 0.0386 - val_mse: 0.0386 - val_mae: 0.1538\n",
            "Epoch 85/100\n",
            "48/48 [==============================] - 0s 4ms/step - loss: 0.0392 - mse: 0.0392 - mae: 0.1565 - val_loss: 0.0385 - val_mse: 0.0385 - val_mae: 0.1541\n",
            "Epoch 86/100\n",
            "48/48 [==============================] - 0s 4ms/step - loss: 0.0382 - mse: 0.0382 - mae: 0.1530 - val_loss: 0.0383 - val_mse: 0.0383 - val_mae: 0.1529\n",
            "Epoch 87/100\n",
            "48/48 [==============================] - 0s 5ms/step - loss: 0.0384 - mse: 0.0384 - mae: 0.1535 - val_loss: 0.0384 - val_mse: 0.0384 - val_mae: 0.1539\n",
            "Epoch 88/100\n",
            "48/48 [==============================] - 0s 5ms/step - loss: 0.0381 - mse: 0.0381 - mae: 0.1532 - val_loss: 0.0384 - val_mse: 0.0384 - val_mae: 0.1540\n",
            "Epoch 89/100\n",
            "48/48 [==============================] - 0s 4ms/step - loss: 0.0382 - mse: 0.0382 - mae: 0.1535 - val_loss: 0.0389 - val_mse: 0.0389 - val_mae: 0.1530\n",
            "Epoch 90/100\n",
            "48/48 [==============================] - 0s 4ms/step - loss: 0.0390 - mse: 0.0390 - mae: 0.1544 - val_loss: 0.0385 - val_mse: 0.0385 - val_mae: 0.1543\n",
            "Epoch 91/100\n",
            "48/48 [==============================] - 0s 8ms/step - loss: 0.0384 - mse: 0.0384 - mae: 0.1541 - val_loss: 0.0382 - val_mse: 0.0382 - val_mae: 0.1531\n",
            "Epoch 92/100\n",
            "48/48 [==============================] - 0s 7ms/step - loss: 0.0385 - mse: 0.0385 - mae: 0.1543 - val_loss: 0.0385 - val_mse: 0.0385 - val_mae: 0.1527\n",
            "Epoch 93/100\n",
            "48/48 [==============================] - 0s 7ms/step - loss: 0.0383 - mse: 0.0383 - mae: 0.1537 - val_loss: 0.0384 - val_mse: 0.0384 - val_mae: 0.1545\n",
            "Epoch 94/100\n",
            "48/48 [==============================] - 0s 5ms/step - loss: 0.0383 - mse: 0.0383 - mae: 0.1549 - val_loss: 0.0383 - val_mse: 0.0383 - val_mae: 0.1534\n",
            "Epoch 95/100\n",
            "48/48 [==============================] - 0s 6ms/step - loss: 0.0381 - mse: 0.0381 - mae: 0.1537 - val_loss: 0.0390 - val_mse: 0.0390 - val_mae: 0.1549\n",
            "Epoch 96/100\n",
            "48/48 [==============================] - 0s 5ms/step - loss: 0.0393 - mse: 0.0393 - mae: 0.1564 - val_loss: 0.0389 - val_mse: 0.0389 - val_mae: 0.1559\n",
            "Epoch 97/100\n",
            "48/48 [==============================] - 0s 5ms/step - loss: 0.0381 - mse: 0.0381 - mae: 0.1531 - val_loss: 0.0382 - val_mse: 0.0382 - val_mae: 0.1529\n",
            "Epoch 98/100\n",
            "48/48 [==============================] - 0s 5ms/step - loss: 0.0381 - mse: 0.0381 - mae: 0.1532 - val_loss: 0.0386 - val_mse: 0.0386 - val_mae: 0.1554\n",
            "Epoch 99/100\n",
            "48/48 [==============================] - 0s 4ms/step - loss: 0.0384 - mse: 0.0384 - mae: 0.1535 - val_loss: 0.0382 - val_mse: 0.0382 - val_mae: 0.1536\n",
            "Epoch 100/100\n",
            "48/48 [==============================] - 0s 5ms/step - loss: 0.0382 - mse: 0.0382 - mae: 0.1535 - val_loss: 0.0387 - val_mse: 0.0387 - val_mae: 0.1555\n"
          ]
        }
      ],
      "source": [
        "# create model\n",
        "model1 = Sequential()\n",
        "model1.add(Dense(4, input_dim=3, kernel_initializer='normal', activation='relu'))\n",
        "model1.add(Dense(2106,kernel_initializer='normal', activation='relu'))\n",
        "model1.add(Dense(1, activation='linear'))\n",
        "# Compile model\n",
        "model1.compile(loss='mean_squared_error', optimizer='adam', metrics=['mse','mae'])\n",
        "# Fit the model\n",
        "hist1 = model1.fit(xtrain_scale, ytrain_scale, validation_split=0.33, epochs=100, batch_size=150)\n",
        "#At epoch 50, mse and mae just keeps oscillating back and forth\n"
      ]
    },
    {
      "cell_type": "code",
      "execution_count": null,
      "id": "f7258a7b",
      "metadata": {
        "ExecuteTime": {
          "end_time": "2023-02-27T16:11:33.359426Z",
          "start_time": "2023-02-27T16:11:33.344900Z"
        },
        "id": "f7258a7b",
        "outputId": "ea1797b1-c5f9-42c6-c86b-2e4883bd55b8"
      },
      "outputs": [
        {
          "name": "stdout",
          "output_type": "stream",
          "text": [
            "Model: \"sequential\"\n",
            "_________________________________________________________________\n",
            " Layer (type)                Output Shape              Param #   \n",
            "=================================================================\n",
            " dense (Dense)               (None, 4)                 16        \n",
            "                                                                 \n",
            " dense_1 (Dense)             (None, 2106)              10530     \n",
            "                                                                 \n",
            " dense_2 (Dense)             (None, 1)                 2107      \n",
            "                                                                 \n",
            "=================================================================\n",
            "Total params: 12,653\n",
            "Trainable params: 12,653\n",
            "Non-trainable params: 0\n",
            "_________________________________________________________________\n"
          ]
        }
      ],
      "source": [
        "model1.summary() "
      ]
    },
    {
      "cell_type": "markdown",
      "id": "ba304991",
      "metadata": {
        "id": "ba304991"
      },
      "source": [
        "# Model Evaluation"
      ]
    },
    {
      "cell_type": "code",
      "execution_count": null,
      "id": "3dd3de2c",
      "metadata": {
        "ExecuteTime": {
          "end_time": "2023-02-27T16:11:55.235587Z",
          "start_time": "2023-02-27T16:11:54.911410Z"
        },
        "id": "3dd3de2c",
        "outputId": "ce50a454-3538-4604-a58b-f4f02571550e"
      },
      "outputs": [
        {
          "name": "stdout",
          "output_type": "stream",
          "text": [
            "141/141 [==============================] - 0s 1ms/step\n"
          ]
        }
      ],
      "source": [
        "y_predict = model1.predict(xtest_scale)"
      ]
    },
    {
      "cell_type": "code",
      "execution_count": null,
      "id": "b5065522",
      "metadata": {
        "ExecuteTime": {
          "end_time": "2023-02-27T16:12:02.349514Z",
          "start_time": "2023-02-27T16:12:02.330565Z"
        },
        "id": "b5065522",
        "outputId": "1a28b06a-23c3-41bd-ed9b-2e70cec6ad84"
      },
      "outputs": [
        {
          "name": "stdout",
          "output_type": "stream",
          "text": [
            "dict_keys(['loss', 'mse', 'mae', 'val_loss', 'val_mse', 'val_mae'])\n"
          ]
        }
      ],
      "source": [
        "print(hist1.history.keys())"
      ]
    },
    {
      "cell_type": "code",
      "execution_count": null,
      "id": "71dee276",
      "metadata": {
        "ExecuteTime": {
          "end_time": "2023-02-27T16:12:10.162595Z",
          "start_time": "2023-02-27T16:12:10.138677Z"
        },
        "id": "71dee276",
        "outputId": "484b9390-0c1f-4934-9e77-f7b4d48864a4"
      },
      "outputs": [
        {
          "data": {
            "text/html": [
              "<div>\n",
              "<style scoped>\n",
              "    .dataframe tbody tr th:only-of-type {\n",
              "        vertical-align: middle;\n",
              "    }\n",
              "\n",
              "    .dataframe tbody tr th {\n",
              "        vertical-align: top;\n",
              "    }\n",
              "\n",
              "    .dataframe thead th {\n",
              "        text-align: right;\n",
              "    }\n",
              "</style>\n",
              "<table border=\"1\" class=\"dataframe\">\n",
              "  <thead>\n",
              "    <tr style=\"text-align: right;\">\n",
              "      <th></th>\n",
              "      <th>loss</th>\n",
              "      <th>mse</th>\n",
              "      <th>mae</th>\n",
              "      <th>val_loss</th>\n",
              "      <th>val_mse</th>\n",
              "      <th>val_mae</th>\n",
              "      <th>epoch</th>\n",
              "    </tr>\n",
              "  </thead>\n",
              "  <tbody>\n",
              "    <tr>\n",
              "      <th>95</th>\n",
              "      <td>0.039335</td>\n",
              "      <td>0.039335</td>\n",
              "      <td>0.156392</td>\n",
              "      <td>0.038892</td>\n",
              "      <td>0.038892</td>\n",
              "      <td>0.155942</td>\n",
              "      <td>95</td>\n",
              "    </tr>\n",
              "    <tr>\n",
              "      <th>96</th>\n",
              "      <td>0.038081</td>\n",
              "      <td>0.038081</td>\n",
              "      <td>0.153125</td>\n",
              "      <td>0.038212</td>\n",
              "      <td>0.038212</td>\n",
              "      <td>0.152948</td>\n",
              "      <td>96</td>\n",
              "    </tr>\n",
              "    <tr>\n",
              "      <th>97</th>\n",
              "      <td>0.038129</td>\n",
              "      <td>0.038129</td>\n",
              "      <td>0.153249</td>\n",
              "      <td>0.038640</td>\n",
              "      <td>0.038640</td>\n",
              "      <td>0.155415</td>\n",
              "      <td>97</td>\n",
              "    </tr>\n",
              "    <tr>\n",
              "      <th>98</th>\n",
              "      <td>0.038365</td>\n",
              "      <td>0.038365</td>\n",
              "      <td>0.153546</td>\n",
              "      <td>0.038201</td>\n",
              "      <td>0.038201</td>\n",
              "      <td>0.153629</td>\n",
              "      <td>98</td>\n",
              "    </tr>\n",
              "    <tr>\n",
              "      <th>99</th>\n",
              "      <td>0.038175</td>\n",
              "      <td>0.038175</td>\n",
              "      <td>0.153519</td>\n",
              "      <td>0.038708</td>\n",
              "      <td>0.038708</td>\n",
              "      <td>0.155549</td>\n",
              "      <td>99</td>\n",
              "    </tr>\n",
              "  </tbody>\n",
              "</table>\n",
              "</div>"
            ],
            "text/plain": [
              "        loss       mse       mae  val_loss   val_mse   val_mae  epoch\n",
              "95  0.039335  0.039335  0.156392  0.038892  0.038892  0.155942     95\n",
              "96  0.038081  0.038081  0.153125  0.038212  0.038212  0.152948     96\n",
              "97  0.038129  0.038129  0.153249  0.038640  0.038640  0.155415     97\n",
              "98  0.038365  0.038365  0.153546  0.038201  0.038201  0.153629     98\n",
              "99  0.038175  0.038175  0.153519  0.038708  0.038708  0.155549     99"
            ]
          },
          "execution_count": 16,
          "metadata": {},
          "output_type": "execute_result"
        }
      ],
      "source": [
        "hist1_df = pd.DataFrame(hist1.history)\n",
        "hist1_df[\"epoch\"]=hist1.epoch\n",
        "hist1_df.tail()"
      ]
    },
    {
      "cell_type": "markdown",
      "id": "8d48f25e",
      "metadata": {
        "id": "8d48f25e"
      },
      "source": [
        "# Visualize Training History"
      ]
    },
    {
      "cell_type": "code",
      "execution_count": null,
      "id": "8c1e3c09",
      "metadata": {
        "ExecuteTime": {
          "end_time": "2023-02-27T16:12:33.056285Z",
          "start_time": "2023-02-27T16:12:32.796058Z"
        },
        "id": "8c1e3c09",
        "outputId": "5a2ed1bd-59f2-4168-9101-01386442c5a1"
      },
      "outputs": [
        {
          "data": {
            "image/png": "[encoded data removed]",
            "text/plain": [
              "<Figure size 600x400 with 1 Axes>"
            ]
          },
          "metadata": {},
          "output_type": "display_data"
        }
      ],
      "source": [
        "# summarize history for Loss\n",
        "\n",
        "sns.set(rc={'figure.figsize':(6,4)})\n",
        "\n",
        "plt.plot(hist1.history['loss'])\n",
        "plt.plot(hist1.history['val_loss'])\n",
        "plt.title('model1 loss')\n",
        "plt.ylabel('loss')\n",
        "plt.xlabel('epoch')\n",
        "plt.legend(['train', 'test'], loc='upper left')\n",
        "plt.show()"
      ]
    },
    {
      "cell_type": "code",
      "execution_count": null,
      "id": "4aaa12d8",
      "metadata": {
        "ExecuteTime": {
          "end_time": "2023-02-27T16:12:41.819146Z",
          "start_time": "2023-02-27T16:12:41.673799Z"
        },
        "id": "4aaa12d8",
        "outputId": "f10c6e54-e817-4c44-8c15-18b7e6ebd4a1"
      },
      "outputs": [
        {
          "data": {
            "image/png": "[encoded data removed]",
            "text/plain": [
              "<Figure size 600x400 with 1 Axes>"
            ]
          },
          "metadata": {},
          "output_type": "display_data"
        }
      ],
      "source": [
        "# summarize history for loss\n",
        "plt.plot(hist1.history['mse'])\n",
        "plt.plot(hist1.history['val_mse'])\n",
        "plt.title('model1 mse')\n",
        "plt.ylabel('mse')\n",
        "plt.xlabel('epoch')\n",
        "plt.legend(['train', 'test'], loc='upper left')\n",
        "plt.show() "
      ]
    },
    {
      "cell_type": "markdown",
      "id": "db105f77",
      "metadata": {
        "id": "db105f77"
      },
      "source": [
        "# -----------------------------------------------------------------------------------------------------------"
      ]
    }
  ],
  "metadata": {
    "kernelspec": {
      "display_name": "Python 3 (ipykernel)",
      "language": "python",
      "name": "python3"
    },
    "language_info": {
      "codemirror_mode": {
        "name": "ipython",
        "version": 3
      },
      "file_extension": ".py",
      "mimetype": "text/x-python",
      "name": "python",
      "nbconvert_exporter": "python",
      "pygments_lexer": "ipython3",
      "version": "3.9.13"
    },
    "colab": {
      "provenance": []
    }
  },
  "nbformat": 4,
  "nbformat_minor": 5
}