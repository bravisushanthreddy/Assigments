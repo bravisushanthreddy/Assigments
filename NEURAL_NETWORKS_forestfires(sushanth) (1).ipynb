{
  "cells": [
    {
      "cell_type": "markdown",
      "id": "23ddf636",
      "metadata": {
        "id": "23ddf636"
      },
      "source": [
        "# NEURAL NETWORKS"
      ]
    },
    {
      "cell_type": "markdown",
      "id": "bd29f963",
      "metadata": {
        "id": "bd29f963"
      },
      "source": [
        "# Question-1"
      ]
    },
    {
      "cell_type": "markdown",
      "id": "4bf2db71",
      "metadata": {
        "id": "4bf2db71"
      },
      "source": [
        "PREDICT THE BURNED AREA OF FOREST FIRES WITH NEURAL NETWORKS"
      ]
    },
    {
      "cell_type": "code",
      "execution_count": null,
      "id": "070523e4",
      "metadata": {
        "ExecuteTime": {
          "end_time": "2023-02-27T15:43:01.778037Z",
          "start_time": "2023-02-27T15:42:53.645193Z"
        },
        "id": "070523e4",
        "outputId": "3e238bcc-59eb-4fe2-81f6-8c2c0907bcfd"
      },
      "outputs": [
        {
          "name": "stdout",
          "output_type": "stream",
          "text": [
            "Requirement already satisfied: imblearn in c:\\users\\saimani\\anaconda3\\lib\\site-packages (0.0)\n",
            "Requirement already satisfied: imbalanced-learn in c:\\users\\saimani\\anaconda3\\lib\\site-packages (from imblearn) (0.10.1)\n",
            "Requirement already satisfied: numpy>=1.17.3 in c:\\users\\saimani\\anaconda3\\lib\\site-packages (from imbalanced-learn->imblearn) (1.21.5)\n",
            "Requirement already satisfied: threadpoolctl>=2.0.0 in c:\\users\\saimani\\anaconda3\\lib\\site-packages (from imbalanced-learn->imblearn) (2.2.0)\n",
            "Requirement already satisfied: joblib>=1.1.1 in c:\\users\\saimani\\anaconda3\\lib\\site-packages (from imbalanced-learn->imblearn) (1.2.0)\n",
            "Requirement already satisfied: scipy>=1.3.2 in c:\\users\\saimani\\anaconda3\\lib\\site-packages (from imbalanced-learn->imblearn) (1.9.1)\n",
            "Requirement already satisfied: scikit-learn>=1.0.2 in c:\\users\\saimani\\anaconda3\\lib\\site-packages (from imbalanced-learn->imblearn) (1.0.2)\n"
          ]
        }
      ],
      "source": [
        "# IMPORINTG REQUIRED LIBRARIES\n",
        "!pip install imblearn\n",
        "import keras\n",
        "import pandas as pd\n",
        "import numpy as np\n",
        "from sklearn.model_selection import train_test_split, cross_val_score\n",
        "import seaborn as sns\n",
        "from keras.models import Sequential\n",
        "from keras.layers import Dense\n",
        "from matplotlib import pyplot as plt\n",
        "%matplotlib inline\n",
        "from sklearn.decomposition import PCA\n",
        "import tensorflow as tf\n",
        "tf.debugging.set_log_device_placement(False) \n",
        "import warnings\n",
        "warnings.filterwarnings('ignore')"
      ]
    },
    {
      "cell_type": "code",
      "execution_count": null,
      "id": "0a1db58e",
      "metadata": {
        "ExecuteTime": {
          "end_time": "2023-02-27T15:43:01.793598Z",
          "start_time": "2023-02-27T15:43:01.778037Z"
        },
        "id": "0a1db58e"
      },
      "outputs": [],
      "source": [
        "# Generating reproducible results from same code\n",
        "tf.random.set_seed(14) "
      ]
    },
    {
      "cell_type": "code",
      "execution_count": null,
      "id": "7db8e4de",
      "metadata": {
        "ExecuteTime": {
          "end_time": "2023-02-27T15:43:01.825667Z",
          "start_time": "2023-02-27T15:43:01.794606Z"
        },
        "id": "7db8e4de",
        "outputId": "897a445c-22ad-4bf6-b64f-ff70479e4b12"
      },
      "outputs": [
        {
          "data": {
            "text/html": [
              "<div>\n",
              "<style scoped>\n",
              "    .dataframe tbody tr th:only-of-type {\n",
              "        vertical-align: middle;\n",
              "    }\n",
              "\n",
              "    .dataframe tbody tr th {\n",
              "        vertical-align: top;\n",
              "    }\n",
              "\n",
              "    .dataframe thead th {\n",
              "        text-align: right;\n",
              "    }\n",
              "</style>\n",
              "<table border=\"1\" class=\"dataframe\">\n",
              "  <thead>\n",
              "    <tr style=\"text-align: right;\">\n",
              "      <th></th>\n",
              "      <th>month</th>\n",
              "      <th>day</th>\n",
              "      <th>FFMC</th>\n",
              "      <th>DMC</th>\n",
              "      <th>DC</th>\n",
              "      <th>ISI</th>\n",
              "      <th>temp</th>\n",
              "      <th>RH</th>\n",
              "      <th>wind</th>\n",
              "      <th>rain</th>\n",
              "      <th>...</th>\n",
              "      <th>monthfeb</th>\n",
              "      <th>monthjan</th>\n",
              "      <th>monthjul</th>\n",
              "      <th>monthjun</th>\n",
              "      <th>monthmar</th>\n",
              "      <th>monthmay</th>\n",
              "      <th>monthnov</th>\n",
              "      <th>monthoct</th>\n",
              "      <th>monthsep</th>\n",
              "      <th>size_category</th>\n",
              "    </tr>\n",
              "  </thead>\n",
              "  <tbody>\n",
              "    <tr>\n",
              "      <th>0</th>\n",
              "      <td>mar</td>\n",
              "      <td>fri</td>\n",
              "      <td>86.2</td>\n",
              "      <td>26.2</td>\n",
              "      <td>94.3</td>\n",
              "      <td>5.1</td>\n",
              "      <td>8.2</td>\n",
              "      <td>51</td>\n",
              "      <td>6.7</td>\n",
              "      <td>0.0</td>\n",
              "      <td>...</td>\n",
              "      <td>0</td>\n",
              "      <td>0</td>\n",
              "      <td>0</td>\n",
              "      <td>0</td>\n",
              "      <td>1</td>\n",
              "      <td>0</td>\n",
              "      <td>0</td>\n",
              "      <td>0</td>\n",
              "      <td>0</td>\n",
              "      <td>small</td>\n",
              "    </tr>\n",
              "    <tr>\n",
              "      <th>1</th>\n",
              "      <td>oct</td>\n",
              "      <td>tue</td>\n",
              "      <td>90.6</td>\n",
              "      <td>35.4</td>\n",
              "      <td>669.1</td>\n",
              "      <td>6.7</td>\n",
              "      <td>18.0</td>\n",
              "      <td>33</td>\n",
              "      <td>0.9</td>\n",
              "      <td>0.0</td>\n",
              "      <td>...</td>\n",
              "      <td>0</td>\n",
              "      <td>0</td>\n",
              "      <td>0</td>\n",
              "      <td>0</td>\n",
              "      <td>0</td>\n",
              "      <td>0</td>\n",
              "      <td>0</td>\n",
              "      <td>1</td>\n",
              "      <td>0</td>\n",
              "      <td>small</td>\n",
              "    </tr>\n",
              "    <tr>\n",
              "      <th>2</th>\n",
              "      <td>oct</td>\n",
              "      <td>sat</td>\n",
              "      <td>90.6</td>\n",
              "      <td>43.7</td>\n",
              "      <td>686.9</td>\n",
              "      <td>6.7</td>\n",
              "      <td>14.6</td>\n",
              "      <td>33</td>\n",
              "      <td>1.3</td>\n",
              "      <td>0.0</td>\n",
              "      <td>...</td>\n",
              "      <td>0</td>\n",
              "      <td>0</td>\n",
              "      <td>0</td>\n",
              "      <td>0</td>\n",
              "      <td>0</td>\n",
              "      <td>0</td>\n",
              "      <td>0</td>\n",
              "      <td>1</td>\n",
              "      <td>0</td>\n",
              "      <td>small</td>\n",
              "    </tr>\n",
              "    <tr>\n",
              "      <th>3</th>\n",
              "      <td>mar</td>\n",
              "      <td>fri</td>\n",
              "      <td>91.7</td>\n",
              "      <td>33.3</td>\n",
              "      <td>77.5</td>\n",
              "      <td>9.0</td>\n",
              "      <td>8.3</td>\n",
              "      <td>97</td>\n",
              "      <td>4.0</td>\n",
              "      <td>0.2</td>\n",
              "      <td>...</td>\n",
              "      <td>0</td>\n",
              "      <td>0</td>\n",
              "      <td>0</td>\n",
              "      <td>0</td>\n",
              "      <td>1</td>\n",
              "      <td>0</td>\n",
              "      <td>0</td>\n",
              "      <td>0</td>\n",
              "      <td>0</td>\n",
              "      <td>small</td>\n",
              "    </tr>\n",
              "    <tr>\n",
              "      <th>4</th>\n",
              "      <td>mar</td>\n",
              "      <td>sun</td>\n",
              "      <td>89.3</td>\n",
              "      <td>51.3</td>\n",
              "      <td>102.2</td>\n",
              "      <td>9.6</td>\n",
              "      <td>11.4</td>\n",
              "      <td>99</td>\n",
              "      <td>1.8</td>\n",
              "      <td>0.0</td>\n",
              "      <td>...</td>\n",
              "      <td>0</td>\n",
              "      <td>0</td>\n",
              "      <td>0</td>\n",
              "      <td>0</td>\n",
              "      <td>1</td>\n",
              "      <td>0</td>\n",
              "      <td>0</td>\n",
              "      <td>0</td>\n",
              "      <td>0</td>\n",
              "      <td>small</td>\n",
              "    </tr>\n",
              "  </tbody>\n",
              "</table>\n",
              "<p>5 rows × 31 columns</p>\n",
              "</div>"
            ],
            "text/plain": [
              "  month  day  FFMC   DMC     DC  ISI  temp  RH  wind  rain  ...  monthfeb  \\\n",
              "0   mar  fri  86.2  26.2   94.3  5.1   8.2  51   6.7   0.0  ...         0   \n",
              "1   oct  tue  90.6  35.4  669.1  6.7  18.0  33   0.9   0.0  ...         0   \n",
              "2   oct  sat  90.6  43.7  686.9  6.7  14.6  33   1.3   0.0  ...         0   \n",
              "3   mar  fri  91.7  33.3   77.5  9.0   8.3  97   4.0   0.2  ...         0   \n",
              "4   mar  sun  89.3  51.3  102.2  9.6  11.4  99   1.8   0.0  ...         0   \n",
              "\n",
              "   monthjan  monthjul  monthjun  monthmar  monthmay  monthnov  monthoct  \\\n",
              "0         0         0         0         1         0         0         0   \n",
              "1         0         0         0         0         0         0         1   \n",
              "2         0         0         0         0         0         0         1   \n",
              "3         0         0         0         1         0         0         0   \n",
              "4         0         0         0         1         0         0         0   \n",
              "\n",
              "   monthsep  size_category  \n",
              "0         0          small  \n",
              "1         0          small  \n",
              "2         0          small  \n",
              "3         0          small  \n",
              "4         0          small  \n",
              "\n",
              "[5 rows x 31 columns]"
            ]
          },
          "execution_count": 4,
          "metadata": {},
          "output_type": "execute_result"
        }
      ],
      "source": [
        "# IMPORTING THE DATASET\n",
        "forest=pd.read_csv('forestfires.csv')\n",
        "forest.head()"
      ]
    },
    {
      "cell_type": "code",
      "execution_count": null,
      "id": "99080c30",
      "metadata": {
        "ExecuteTime": {
          "end_time": "2023-02-27T15:43:01.841801Z",
          "start_time": "2023-02-27T15:43:01.829581Z"
        },
        "id": "99080c30"
      },
      "outputs": [],
      "source": [
        "df = forest.copy() #Removing the dummies at this time\n",
        "df.drop(df.columns[11:30],axis=1,inplace = True)"
      ]
    },
    {
      "cell_type": "code",
      "execution_count": null,
      "id": "48f88960",
      "metadata": {
        "ExecuteTime": {
          "end_time": "2023-02-27T15:43:01.872996Z",
          "start_time": "2023-02-27T15:43:01.844357Z"
        },
        "id": "48f88960",
        "outputId": "0388f6e1-1ca9-451a-a584-58f0aafd9234"
      },
      "outputs": [
        {
          "data": {
            "text/plain": [
              "(517, 12)"
            ]
          },
          "execution_count": 6,
          "metadata": {},
          "output_type": "execute_result"
        }
      ],
      "source": [
        "df.shape"
      ]
    },
    {
      "cell_type": "code",
      "execution_count": null,
      "id": "0e805485",
      "metadata": {
        "ExecuteTime": {
          "end_time": "2023-02-27T15:43:01.888243Z",
          "start_time": "2023-02-27T15:43:01.875020Z"
        },
        "id": "0e805485",
        "outputId": "b32b242d-0e1c-4d9b-f01a-03022e86666b"
      },
      "outputs": [
        {
          "name": "stdout",
          "output_type": "stream",
          "text": [
            "<class 'pandas.core.frame.DataFrame'>\n",
            "RangeIndex: 517 entries, 0 to 516\n",
            "Data columns (total 12 columns):\n",
            " #   Column         Non-Null Count  Dtype  \n",
            "---  ------         --------------  -----  \n",
            " 0   month          517 non-null    object \n",
            " 1   day            517 non-null    object \n",
            " 2   FFMC           517 non-null    float64\n",
            " 3   DMC            517 non-null    float64\n",
            " 4   DC             517 non-null    float64\n",
            " 5   ISI            517 non-null    float64\n",
            " 6   temp           517 non-null    float64\n",
            " 7   RH             517 non-null    int64  \n",
            " 8   wind           517 non-null    float64\n",
            " 9   rain           517 non-null    float64\n",
            " 10  area           517 non-null    float64\n",
            " 11  size_category  517 non-null    object \n",
            "dtypes: float64(8), int64(1), object(3)\n",
            "memory usage: 48.6+ KB\n"
          ]
        }
      ],
      "source": [
        "df.info()"
      ]
    },
    {
      "cell_type": "code",
      "execution_count": null,
      "id": "bfc60bf1",
      "metadata": {
        "ExecuteTime": {
          "end_time": "2023-02-27T15:43:01.903310Z",
          "start_time": "2023-02-27T15:43:01.890006Z"
        },
        "id": "bfc60bf1",
        "outputId": "eb5b0e60-e540-4755-c3e9-b5f6774839d1"
      },
      "outputs": [
        {
          "data": {
            "text/plain": [
              "Index(['month', 'day', 'FFMC', 'DMC', 'DC', 'ISI', 'temp', 'RH', 'wind',\n",
              "       'rain', 'area', 'size_category'],\n",
              "      dtype='object')"
            ]
          },
          "execution_count": 8,
          "metadata": {},
          "output_type": "execute_result"
        }
      ],
      "source": [
        "df.columns"
      ]
    },
    {
      "cell_type": "code",
      "execution_count": null,
      "id": "29ac1829",
      "metadata": {
        "ExecuteTime": {
          "end_time": "2023-02-27T15:43:01.933927Z",
          "start_time": "2023-02-27T15:43:01.904308Z"
        },
        "id": "29ac1829",
        "outputId": "82f14cd4-87dc-48ac-e1d4-ddb44ffc4d62"
      },
      "outputs": [
        {
          "name": "stdout",
          "output_type": "stream",
          "text": [
            "<class 'pandas.core.frame.DataFrame'>\n",
            "RangeIndex: 517 entries, 0 to 516\n",
            "Data columns (total 12 columns):\n",
            " #   Column         Non-Null Count  Dtype  \n",
            "---  ------         --------------  -----  \n",
            " 0   month          517 non-null    object \n",
            " 1   day            517 non-null    object \n",
            " 2   FFMC           517 non-null    float64\n",
            " 3   DMC            517 non-null    float64\n",
            " 4   DC             517 non-null    float64\n",
            " 5   ISI            517 non-null    float64\n",
            " 6   temp           517 non-null    float64\n",
            " 7   RH             517 non-null    int64  \n",
            " 8   wind           517 non-null    float64\n",
            " 9   rain           517 non-null    float64\n",
            " 10  area           517 non-null    float64\n",
            " 11  size_category  517 non-null    object \n",
            "dtypes: float64(8), int64(1), object(3)\n",
            "memory usage: 48.6+ KB\n"
          ]
        }
      ],
      "source": [
        "df.info()"
      ]
    },
    {
      "cell_type": "code",
      "execution_count": null,
      "id": "db61ebdb",
      "metadata": {
        "ExecuteTime": {
          "end_time": "2023-02-27T15:43:01.949146Z",
          "start_time": "2023-02-27T15:43:01.935190Z"
        },
        "id": "db61ebdb",
        "outputId": "c4441a97-7247-442e-b078-4fede7e46d2c"
      },
      "outputs": [
        {
          "data": {
            "text/plain": [
              "month            0\n",
              "day              0\n",
              "FFMC             0\n",
              "DMC              0\n",
              "DC               0\n",
              "ISI              0\n",
              "temp             0\n",
              "RH               0\n",
              "wind             0\n",
              "rain             0\n",
              "area             0\n",
              "size_category    0\n",
              "dtype: int64"
            ]
          },
          "execution_count": 10,
          "metadata": {},
          "output_type": "execute_result"
        }
      ],
      "source": [
        "df.isnull().sum()"
      ]
    },
    {
      "cell_type": "code",
      "execution_count": null,
      "id": "1d8e6e96",
      "metadata": {
        "ExecuteTime": {
          "end_time": "2023-02-27T15:43:01.964098Z",
          "start_time": "2023-02-27T15:43:01.952136Z"
        },
        "id": "1d8e6e96",
        "outputId": "be61ba0e-4004-475d-e802-fae9b58234f6"
      },
      "outputs": [
        {
          "data": {
            "text/plain": [
              "aug    184\n",
              "sep    172\n",
              "mar     54\n",
              "jul     32\n",
              "feb     20\n",
              "jun     17\n",
              "oct     15\n",
              "apr      9\n",
              "dec      9\n",
              "jan      2\n",
              "may      2\n",
              "nov      1\n",
              "Name: month, dtype: int64"
            ]
          },
          "execution_count": 11,
          "metadata": {},
          "output_type": "execute_result"
        }
      ],
      "source": [
        "df.month.value_counts()"
      ]
    },
    {
      "cell_type": "code",
      "execution_count": null,
      "id": "160d4da9",
      "metadata": {
        "ExecuteTime": {
          "end_time": "2023-02-27T15:43:01.979067Z",
          "start_time": "2023-02-27T15:43:01.967088Z"
        },
        "id": "160d4da9",
        "outputId": "f5d08765-c21c-4ef7-c08e-652ad8e14069"
      },
      "outputs": [
        {
          "data": {
            "text/plain": [
              "small    378\n",
              "large    139\n",
              "Name: size_category, dtype: int64"
            ]
          },
          "execution_count": 12,
          "metadata": {},
          "output_type": "execute_result"
        }
      ],
      "source": [
        " # The dataset is biased. Lets remove the bias.\n",
        "df.size_category.value_counts() "
      ]
    },
    {
      "cell_type": "code",
      "execution_count": null,
      "id": "85be63a3",
      "metadata": {
        "ExecuteTime": {
          "end_time": "2023-02-27T15:43:02.015069Z",
          "start_time": "2023-02-27T15:43:01.981060Z"
        },
        "id": "85be63a3",
        "outputId": "fdea73a1-28a1-4c93-9e94-5e972b47d857"
      },
      "outputs": [
        {
          "data": {
            "text/html": [
              "<div>\n",
              "<style scoped>\n",
              "    .dataframe tbody tr th:only-of-type {\n",
              "        vertical-align: middle;\n",
              "    }\n",
              "\n",
              "    .dataframe tbody tr th {\n",
              "        vertical-align: top;\n",
              "    }\n",
              "\n",
              "    .dataframe thead th {\n",
              "        text-align: right;\n",
              "    }\n",
              "</style>\n",
              "<table border=\"1\" class=\"dataframe\">\n",
              "  <thead>\n",
              "    <tr style=\"text-align: right;\">\n",
              "      <th></th>\n",
              "      <th>month</th>\n",
              "      <th>day</th>\n",
              "      <th>FFMC</th>\n",
              "      <th>DMC</th>\n",
              "      <th>DC</th>\n",
              "      <th>ISI</th>\n",
              "      <th>temp</th>\n",
              "      <th>RH</th>\n",
              "      <th>wind</th>\n",
              "      <th>rain</th>\n",
              "      <th>area</th>\n",
              "      <th>size_category</th>\n",
              "    </tr>\n",
              "  </thead>\n",
              "  <tbody>\n",
              "    <tr>\n",
              "      <th>0</th>\n",
              "      <td>7</td>\n",
              "      <td>0</td>\n",
              "      <td>86.2</td>\n",
              "      <td>26.2</td>\n",
              "      <td>94.3</td>\n",
              "      <td>5.1</td>\n",
              "      <td>8.2</td>\n",
              "      <td>51</td>\n",
              "      <td>6.7</td>\n",
              "      <td>0.0</td>\n",
              "      <td>0.0</td>\n",
              "      <td>1</td>\n",
              "    </tr>\n",
              "    <tr>\n",
              "      <th>1</th>\n",
              "      <td>10</td>\n",
              "      <td>5</td>\n",
              "      <td>90.6</td>\n",
              "      <td>35.4</td>\n",
              "      <td>669.1</td>\n",
              "      <td>6.7</td>\n",
              "      <td>18.0</td>\n",
              "      <td>33</td>\n",
              "      <td>0.9</td>\n",
              "      <td>0.0</td>\n",
              "      <td>0.0</td>\n",
              "      <td>1</td>\n",
              "    </tr>\n",
              "    <tr>\n",
              "      <th>2</th>\n",
              "      <td>10</td>\n",
              "      <td>2</td>\n",
              "      <td>90.6</td>\n",
              "      <td>43.7</td>\n",
              "      <td>686.9</td>\n",
              "      <td>6.7</td>\n",
              "      <td>14.6</td>\n",
              "      <td>33</td>\n",
              "      <td>1.3</td>\n",
              "      <td>0.0</td>\n",
              "      <td>0.0</td>\n",
              "      <td>1</td>\n",
              "    </tr>\n",
              "    <tr>\n",
              "      <th>3</th>\n",
              "      <td>7</td>\n",
              "      <td>0</td>\n",
              "      <td>91.7</td>\n",
              "      <td>33.3</td>\n",
              "      <td>77.5</td>\n",
              "      <td>9.0</td>\n",
              "      <td>8.3</td>\n",
              "      <td>97</td>\n",
              "      <td>4.0</td>\n",
              "      <td>0.2</td>\n",
              "      <td>0.0</td>\n",
              "      <td>1</td>\n",
              "    </tr>\n",
              "    <tr>\n",
              "      <th>4</th>\n",
              "      <td>7</td>\n",
              "      <td>3</td>\n",
              "      <td>89.3</td>\n",
              "      <td>51.3</td>\n",
              "      <td>102.2</td>\n",
              "      <td>9.6</td>\n",
              "      <td>11.4</td>\n",
              "      <td>99</td>\n",
              "      <td>1.8</td>\n",
              "      <td>0.0</td>\n",
              "      <td>0.0</td>\n",
              "      <td>1</td>\n",
              "    </tr>\n",
              "  </tbody>\n",
              "</table>\n",
              "</div>"
            ],
            "text/plain": [
              "   month  day  FFMC   DMC     DC  ISI  temp  RH  wind  rain  area  \\\n",
              "0      7    0  86.2  26.2   94.3  5.1   8.2  51   6.7   0.0   0.0   \n",
              "1     10    5  90.6  35.4  669.1  6.7  18.0  33   0.9   0.0   0.0   \n",
              "2     10    2  90.6  43.7  686.9  6.7  14.6  33   1.3   0.0   0.0   \n",
              "3      7    0  91.7  33.3   77.5  9.0   8.3  97   4.0   0.2   0.0   \n",
              "4      7    3  89.3  51.3  102.2  9.6  11.4  99   1.8   0.0   0.0   \n",
              "\n",
              "   size_category  \n",
              "0              1  \n",
              "1              1  \n",
              "2              1  \n",
              "3              1  \n",
              "4              1  "
            ]
          },
          "execution_count": 13,
          "metadata": {},
          "output_type": "execute_result"
        }
      ],
      "source": [
        "#We are going to perform label encoding since it is faster than dummy variables\n",
        "\n",
        "from sklearn import preprocessing\n",
        "label_encoder = preprocessing.LabelEncoder()\n",
        "df.month= label_encoder.fit_transform(df.month) \n",
        "df.day= label_encoder.fit_transform(df.day) \n",
        "df.size_category= label_encoder.fit_transform(df.size_category) \n",
        "df.head()"
      ]
    },
    {
      "cell_type": "markdown",
      "id": "89d744c7",
      "metadata": {
        "id": "89d744c7"
      },
      "source": [
        "# Removing Bias in the Dataset"
      ]
    },
    {
      "cell_type": "code",
      "execution_count": null,
      "id": "b8db6b2b",
      "metadata": {
        "ExecuteTime": {
          "end_time": "2023-02-27T15:43:02.138456Z",
          "start_time": "2023-02-27T15:43:02.028314Z"
        },
        "id": "b8db6b2b",
        "outputId": "65d0cdd6-a5bc-479d-f2d2-c158e97c0648"
      },
      "outputs": [
        {
          "name": "stdout",
          "output_type": "stream",
          "text": [
            "Counter({1: 378, 0: 139})\n",
            "Counter({1: 369, 0: 369})\n"
          ]
        }
      ],
      "source": [
        "from imblearn.combine import SMOTETomek\n",
        "from collections import Counter\n",
        "\n",
        "resamp = df.copy()\n",
        "#SMOTEK TECHNIQUE\n",
        "\n",
        "#Define dataset\n",
        "a = resamp.iloc[:,:-1]\n",
        "b = resamp.iloc[:,-1]\n",
        "\n",
        "#Count before\n",
        "print(Counter(b))\n",
        "\n",
        "smt = SMOTETomek(sampling_strategy = 'auto')\n",
        "a, b = smt.fit_resample(a, b)\n",
        "\n",
        "#Count after\n",
        "print(Counter(b)) #removed bias in dataset"
      ]
    },
    {
      "cell_type": "markdown",
      "id": "c577eba0",
      "metadata": {
        "id": "c577eba0"
      },
      "source": [
        "# Train | Split dataset"
      ]
    },
    {
      "cell_type": "code",
      "execution_count": null,
      "id": "fb42a364",
      "metadata": {
        "ExecuteTime": {
          "end_time": "2023-02-27T15:43:02.154502Z",
          "start_time": "2023-02-27T15:43:02.141079Z"
        },
        "id": "fb42a364"
      },
      "outputs": [],
      "source": [
        "X = a\n",
        "Y = b\n",
        "X_train, X_test, y_train, y_test = train_test_split(X,Y, test_size = 0.3)\n"
      ]
    },
    {
      "cell_type": "markdown",
      "id": "386455e7",
      "metadata": {
        "id": "386455e7"
      },
      "source": [
        "# Neural Network Modelling"
      ]
    },
    {
      "cell_type": "markdown",
      "id": "2f1e4b8f",
      "metadata": {
        "id": "2f1e4b8f"
      },
      "source": [
        "# Building the Model"
      ]
    },
    {
      "cell_type": "code",
      "execution_count": null,
      "id": "28da1f58",
      "metadata": {
        "ExecuteTime": {
          "end_time": "2023-02-27T15:43:07.614737Z",
          "start_time": "2023-02-27T15:43:02.154502Z"
        },
        "id": "28da1f58",
        "outputId": "826964a2-c747-4a4b-ded6-fbc500841b70"
      },
      "outputs": [
        {
          "name": "stdout",
          "output_type": "stream",
          "text": [
            "Epoch 1/50\n",
            "35/35 [==============================] - 1s 7ms/step - loss: 0.6932 - accuracy: 0.4928 - val_loss: 0.6991 - val_accuracy: 0.4444\n",
            "Epoch 2/50\n",
            "35/35 [==============================] - 0s 2ms/step - loss: 0.6858 - accuracy: 0.5594 - val_loss: 0.6850 - val_accuracy: 0.5205\n",
            "Epoch 3/50\n",
            "35/35 [==============================] - 0s 2ms/step - loss: 0.6586 - accuracy: 0.6580 - val_loss: 0.6365 - val_accuracy: 0.5965\n",
            "Epoch 4/50\n",
            "35/35 [==============================] - 0s 2ms/step - loss: 0.5769 - accuracy: 0.7449 - val_loss: 0.5528 - val_accuracy: 0.6842\n",
            "Epoch 5/50\n",
            "35/35 [==============================] - 0s 2ms/step - loss: 0.4597 - accuracy: 0.8348 - val_loss: 0.4045 - val_accuracy: 0.9474\n",
            "Epoch 6/50\n",
            "35/35 [==============================] - 0s 3ms/step - loss: 0.3790 - accuracy: 0.8667 - val_loss: 0.3978 - val_accuracy: 0.7661\n",
            "Epoch 7/50\n",
            "35/35 [==============================] - 0s 2ms/step - loss: 0.3038 - accuracy: 0.9130 - val_loss: 0.2566 - val_accuracy: 0.9766\n",
            "Epoch 8/50\n",
            "35/35 [==============================] - 0s 2ms/step - loss: 0.2288 - accuracy: 0.9507 - val_loss: 0.2010 - val_accuracy: 0.9883\n",
            "Epoch 9/50\n",
            "35/35 [==============================] - 0s 2ms/step - loss: 0.1857 - accuracy: 0.9594 - val_loss: 0.1676 - val_accuracy: 0.9766\n",
            "Epoch 10/50\n",
            "35/35 [==============================] - 0s 2ms/step - loss: 0.1503 - accuracy: 0.9681 - val_loss: 0.1263 - val_accuracy: 1.0000\n",
            "Epoch 11/50\n",
            "35/35 [==============================] - 0s 3ms/step - loss: 0.1175 - accuracy: 0.9855 - val_loss: 0.1636 - val_accuracy: 0.9357\n",
            "Epoch 12/50\n",
            "35/35 [==============================] - 0s 3ms/step - loss: 0.1181 - accuracy: 0.9681 - val_loss: 0.1026 - val_accuracy: 0.9883\n",
            "Epoch 13/50\n",
            "35/35 [==============================] - 0s 3ms/step - loss: 0.0912 - accuracy: 0.9797 - val_loss: 0.0739 - val_accuracy: 0.9942\n",
            "Epoch 14/50\n",
            "35/35 [==============================] - 0s 2ms/step - loss: 0.0838 - accuracy: 0.9797 - val_loss: 0.0790 - val_accuracy: 0.9825\n",
            "Epoch 15/50\n",
            "35/35 [==============================] - 0s 2ms/step - loss: 0.0653 - accuracy: 0.9855 - val_loss: 0.0591 - val_accuracy: 1.0000\n",
            "Epoch 16/50\n",
            "35/35 [==============================] - 0s 2ms/step - loss: 0.0811 - accuracy: 0.9768 - val_loss: 0.0953 - val_accuracy: 0.9649\n",
            "Epoch 17/50\n",
            "35/35 [==============================] - 0s 2ms/step - loss: 0.1007 - accuracy: 0.9681 - val_loss: 0.0480 - val_accuracy: 1.0000\n",
            "Epoch 18/50\n",
            "35/35 [==============================] - 0s 2ms/step - loss: 0.0604 - accuracy: 0.9855 - val_loss: 0.0542 - val_accuracy: 0.9883\n",
            "Epoch 19/50\n",
            "35/35 [==============================] - 0s 3ms/step - loss: 0.0605 - accuracy: 0.9768 - val_loss: 0.0376 - val_accuracy: 1.0000\n",
            "Epoch 20/50\n",
            "35/35 [==============================] - 0s 2ms/step - loss: 0.0416 - accuracy: 0.9942 - val_loss: 0.0423 - val_accuracy: 0.9942\n",
            "Epoch 21/50\n",
            "35/35 [==============================] - 0s 3ms/step - loss: 0.0565 - accuracy: 0.9797 - val_loss: 0.0621 - val_accuracy: 0.9766\n",
            "Epoch 22/50\n",
            "35/35 [==============================] - 0s 3ms/step - loss: 0.0476 - accuracy: 0.9884 - val_loss: 0.0321 - val_accuracy: 1.0000\n",
            "Epoch 23/50\n",
            "35/35 [==============================] - 0s 2ms/step - loss: 0.0635 - accuracy: 0.9739 - val_loss: 0.0488 - val_accuracy: 0.9825\n",
            "Epoch 24/50\n",
            "35/35 [==============================] - 0s 2ms/step - loss: 0.0425 - accuracy: 0.9913 - val_loss: 0.0334 - val_accuracy: 0.9942\n",
            "Epoch 25/50\n",
            "35/35 [==============================] - 0s 2ms/step - loss: 0.0362 - accuracy: 0.9942 - val_loss: 0.0257 - val_accuracy: 1.0000\n",
            "Epoch 26/50\n",
            "35/35 [==============================] - 0s 2ms/step - loss: 0.0384 - accuracy: 0.9884 - val_loss: 0.0267 - val_accuracy: 1.0000\n",
            "Epoch 27/50\n",
            "35/35 [==============================] - 0s 2ms/step - loss: 0.0439 - accuracy: 0.9855 - val_loss: 0.0524 - val_accuracy: 0.9766\n",
            "Epoch 28/50\n",
            "35/35 [==============================] - 0s 2ms/step - loss: 0.0514 - accuracy: 0.9855 - val_loss: 0.0313 - val_accuracy: 0.9942\n",
            "Epoch 29/50\n",
            "35/35 [==============================] - 0s 2ms/step - loss: 0.0346 - accuracy: 0.9855 - val_loss: 0.0509 - val_accuracy: 0.9825\n",
            "Epoch 30/50\n",
            "35/35 [==============================] - 0s 3ms/step - loss: 0.0605 - accuracy: 0.9739 - val_loss: 0.0231 - val_accuracy: 1.0000\n",
            "Epoch 31/50\n",
            "35/35 [==============================] - 0s 3ms/step - loss: 0.0423 - accuracy: 0.9855 - val_loss: 0.2416 - val_accuracy: 0.9123\n",
            "Epoch 32/50\n",
            "35/35 [==============================] - 0s 2ms/step - loss: 0.0526 - accuracy: 0.9768 - val_loss: 0.0867 - val_accuracy: 0.9532\n",
            "Epoch 33/50\n",
            "35/35 [==============================] - 0s 2ms/step - loss: 0.0455 - accuracy: 0.9855 - val_loss: 0.1426 - val_accuracy: 0.9474\n",
            "Epoch 34/50\n",
            "35/35 [==============================] - 0s 3ms/step - loss: 0.0421 - accuracy: 0.9855 - val_loss: 0.0273 - val_accuracy: 0.9942\n",
            "Epoch 35/50\n",
            "35/35 [==============================] - 0s 2ms/step - loss: 0.0543 - accuracy: 0.9739 - val_loss: 0.0552 - val_accuracy: 0.9708\n",
            "Epoch 36/50\n",
            "35/35 [==============================] - 0s 3ms/step - loss: 0.0423 - accuracy: 0.9768 - val_loss: 0.0196 - val_accuracy: 1.0000\n",
            "Epoch 37/50\n",
            "35/35 [==============================] - 0s 2ms/step - loss: 0.0272 - accuracy: 0.9971 - val_loss: 0.0240 - val_accuracy: 0.9942\n",
            "Epoch 38/50\n",
            "35/35 [==============================] - 0s 2ms/step - loss: 0.0271 - accuracy: 0.9971 - val_loss: 0.0189 - val_accuracy: 1.0000\n",
            "Epoch 39/50\n",
            "35/35 [==============================] - 0s 3ms/step - loss: 0.0754 - accuracy: 0.9768 - val_loss: 0.0481 - val_accuracy: 0.9766\n",
            "Epoch 40/50\n",
            "35/35 [==============================] - 0s 3ms/step - loss: 0.0296 - accuracy: 0.9942 - val_loss: 0.0172 - val_accuracy: 1.0000\n",
            "Epoch 41/50\n",
            "35/35 [==============================] - 0s 2ms/step - loss: 0.0669 - accuracy: 0.9739 - val_loss: 0.0491 - val_accuracy: 0.9766\n",
            "Epoch 42/50\n",
            "35/35 [==============================] - 0s 3ms/step - loss: 0.0399 - accuracy: 0.9913 - val_loss: 0.0180 - val_accuracy: 1.0000\n",
            "Epoch 43/50\n",
            "35/35 [==============================] - 0s 2ms/step - loss: 0.0228 - accuracy: 0.9942 - val_loss: 0.0166 - val_accuracy: 1.0000\n",
            "Epoch 44/50\n",
            "35/35 [==============================] - 0s 2ms/step - loss: 0.0440 - accuracy: 0.9768 - val_loss: 0.0173 - val_accuracy: 1.0000\n",
            "Epoch 45/50\n",
            "35/35 [==============================] - 0s 2ms/step - loss: 0.0223 - accuracy: 0.9971 - val_loss: 0.0213 - val_accuracy: 0.9942\n",
            "Epoch 46/50\n",
            "35/35 [==============================] - 0s 3ms/step - loss: 0.0255 - accuracy: 0.9942 - val_loss: 0.0293 - val_accuracy: 0.9883\n",
            "Epoch 47/50\n",
            "35/35 [==============================] - 0s 2ms/step - loss: 0.0339 - accuracy: 0.9855 - val_loss: 0.0775 - val_accuracy: 0.9591\n",
            "Epoch 48/50\n",
            "35/35 [==============================] - 0s 2ms/step - loss: 0.0306 - accuracy: 0.9884 - val_loss: 0.0370 - val_accuracy: 0.9766\n",
            "Epoch 49/50\n",
            "35/35 [==============================] - 0s 2ms/step - loss: 0.0396 - accuracy: 0.9855 - val_loss: 0.0235 - val_accuracy: 0.9942\n",
            "Epoch 50/50\n",
            "35/35 [==============================] - 0s 2ms/step - loss: 0.0871 - accuracy: 0.9739 - val_loss: 0.0152 - val_accuracy: 1.0000\n"
          ]
        }
      ],
      "source": [
        "# create model\n",
        "model = Sequential()\n",
        "model.add(Dense(14, input_dim=11, kernel_initializer='uniform', activation='relu'))\n",
        "model.add(Dense(12,kernel_initializer='uniform', activation='relu'))\n",
        "model.add(Dense(1, kernel_initializer='uniform', activation='sigmoid'))\n",
        "# Compile model\n",
        "model.compile(loss='binary_crossentropy', optimizer='adam', metrics=['accuracy'])\n",
        "# Fit the model\n",
        "hist = model.fit(X_train, y_train, validation_split=0.33, epochs=50, batch_size=10)"
      ]
    },
    {
      "cell_type": "markdown",
      "id": "14ac64ea",
      "metadata": {
        "id": "14ac64ea"
      },
      "source": [
        "# Model Evaluation"
      ]
    },
    {
      "cell_type": "code",
      "execution_count": null,
      "id": "29d7a832",
      "metadata": {
        "ExecuteTime": {
          "end_time": "2023-02-27T15:43:07.714628Z",
          "start_time": "2023-02-27T15:43:07.615759Z"
        },
        "id": "29d7a832",
        "outputId": "85edf769-6e0b-4008-9334-4e8c81bf656f"
      },
      "outputs": [
        {
          "name": "stdout",
          "output_type": "stream",
          "text": [
            "7/7 [==============================] - 0s 2ms/step - loss: 0.0262 - accuracy: 0.9955\n"
          ]
        }
      ],
      "source": [
        "test_loss, test_acc = model.evaluate(X_test, y_test)"
      ]
    },
    {
      "cell_type": "code",
      "execution_count": null,
      "id": "c4fae8ac",
      "metadata": {
        "ExecuteTime": {
          "end_time": "2023-02-27T15:43:53.900352Z",
          "start_time": "2023-02-27T15:43:53.895368Z"
        },
        "id": "c4fae8ac",
        "outputId": "3c3bf409-3cae-4275-ad30-23248fe4e863"
      },
      "outputs": [
        {
          "name": "stdout",
          "output_type": "stream",
          "text": [
            "dict_keys(['loss', 'accuracy', 'val_loss', 'val_accuracy'])\n"
          ]
        }
      ],
      "source": [
        "print(hist.history.keys())"
      ]
    },
    {
      "cell_type": "code",
      "execution_count": null,
      "id": "70bb3ab9",
      "metadata": {
        "ExecuteTime": {
          "end_time": "2023-02-27T15:44:02.135944Z",
          "start_time": "2023-02-27T15:44:02.117010Z"
        },
        "id": "70bb3ab9",
        "outputId": "4a9aa997-3f78-4f2b-e32b-85e0987ddb36"
      },
      "outputs": [
        {
          "data": {
            "text/html": [
              "<div>\n",
              "<style scoped>\n",
              "    .dataframe tbody tr th:only-of-type {\n",
              "        vertical-align: middle;\n",
              "    }\n",
              "\n",
              "    .dataframe tbody tr th {\n",
              "        vertical-align: top;\n",
              "    }\n",
              "\n",
              "    .dataframe thead th {\n",
              "        text-align: right;\n",
              "    }\n",
              "</style>\n",
              "<table border=\"1\" class=\"dataframe\">\n",
              "  <thead>\n",
              "    <tr style=\"text-align: right;\">\n",
              "      <th></th>\n",
              "      <th>loss</th>\n",
              "      <th>accuracy</th>\n",
              "      <th>val_loss</th>\n",
              "      <th>val_accuracy</th>\n",
              "      <th>epoch</th>\n",
              "    </tr>\n",
              "  </thead>\n",
              "  <tbody>\n",
              "    <tr>\n",
              "      <th>45</th>\n",
              "      <td>0.025453</td>\n",
              "      <td>0.994203</td>\n",
              "      <td>0.029338</td>\n",
              "      <td>0.988304</td>\n",
              "      <td>45</td>\n",
              "    </tr>\n",
              "    <tr>\n",
              "      <th>46</th>\n",
              "      <td>0.033925</td>\n",
              "      <td>0.985507</td>\n",
              "      <td>0.077489</td>\n",
              "      <td>0.959064</td>\n",
              "      <td>46</td>\n",
              "    </tr>\n",
              "    <tr>\n",
              "      <th>47</th>\n",
              "      <td>0.030596</td>\n",
              "      <td>0.988406</td>\n",
              "      <td>0.037011</td>\n",
              "      <td>0.976608</td>\n",
              "      <td>47</td>\n",
              "    </tr>\n",
              "    <tr>\n",
              "      <th>48</th>\n",
              "      <td>0.039577</td>\n",
              "      <td>0.985507</td>\n",
              "      <td>0.023523</td>\n",
              "      <td>0.994152</td>\n",
              "      <td>48</td>\n",
              "    </tr>\n",
              "    <tr>\n",
              "      <th>49</th>\n",
              "      <td>0.087116</td>\n",
              "      <td>0.973913</td>\n",
              "      <td>0.015213</td>\n",
              "      <td>1.000000</td>\n",
              "      <td>49</td>\n",
              "    </tr>\n",
              "  </tbody>\n",
              "</table>\n",
              "</div>"
            ],
            "text/plain": [
              "        loss  accuracy  val_loss  val_accuracy  epoch\n",
              "45  0.025453  0.994203  0.029338      0.988304     45\n",
              "46  0.033925  0.985507  0.077489      0.959064     46\n",
              "47  0.030596  0.988406  0.037011      0.976608     47\n",
              "48  0.039577  0.985507  0.023523      0.994152     48\n",
              "49  0.087116  0.973913  0.015213      1.000000     49"
            ]
          },
          "execution_count": 20,
          "metadata": {},
          "output_type": "execute_result"
        }
      ],
      "source": [
        "hist_df = pd.DataFrame(hist.history)\n",
        "hist_df[\"epoch\"]=hist.epoch\n",
        "hist_df.tail()"
      ]
    },
    {
      "cell_type": "markdown",
      "id": "ed4237ef",
      "metadata": {
        "id": "ed4237ef"
      },
      "source": [
        "# Visualize Training History"
      ]
    },
    {
      "cell_type": "code",
      "execution_count": null,
      "id": "d2043f3d",
      "metadata": {
        "ExecuteTime": {
          "end_time": "2023-02-27T15:44:27.231164Z",
          "start_time": "2023-02-27T15:44:27.005026Z"
        },
        "id": "d2043f3d",
        "outputId": "e7eac794-7dcc-4456-9d12-e92567998054"
      },
      "outputs": [
        {
          "data": {
            "image/png": "[encoded data removed]",
            "text/plain": [
              "<Figure size 640x480 with 1 Axes>"
            ]
          },
          "metadata": {},
          "output_type": "display_data"
        }
      ],
      "source": [
        "# summarize history for accuracy\n",
        "plt.plot(hist.history['accuracy'])\n",
        "plt.plot(hist.history['val_accuracy'])\n",
        "plt.title('model accuracy')\n",
        "plt.ylabel('accuracy')\n",
        "plt.xlabel('epoch')\n",
        "plt.legend(['train', 'test'], loc='upper left')\n",
        "plt.show()"
      ]
    },
    {
      "cell_type": "code",
      "execution_count": null,
      "id": "201b3677",
      "metadata": {
        "ExecuteTime": {
          "end_time": "2023-02-27T15:44:38.084773Z",
          "start_time": "2023-02-27T15:44:37.957173Z"
        },
        "id": "201b3677",
        "outputId": "76ea2002-8fed-479d-b546-a0df4f88c1b0"
      },
      "outputs": [
        {
          "data": {
            "text/plain": [
              "<matplotlib.legend.Legend at 0x25300a998e0>"
            ]
          },
          "execution_count": 22,
          "metadata": {},
          "output_type": "execute_result"
        },
        {
          "data": {
            "image/png": "[encoded data removed]",
            "text/plain": [
              "<Figure size 640x480 with 1 Axes>"
            ]
          },
          "metadata": {},
          "output_type": "display_data"
        }
      ],
      "source": [
        "# summarize history for loss\n",
        "plt.plot(hist.history['loss'])\n",
        "plt.plot(hist.history['val_loss'])\n",
        "plt.title('model loss')\n",
        "plt.ylabel('loss')\n",
        "plt.xlabel('epoch')\n",
        "plt.legend(['train', 'test'], loc='upper left')"
      ]
    },
    {
      "cell_type": "markdown",
      "id": "f8d9e387",
      "metadata": {
        "id": "f8d9e387"
      },
      "source": [
        "Tuning of Hyperparameters :- Batch Size and Epochs"
      ]
    },
    {
      "cell_type": "code",
      "execution_count": null,
      "id": "feb51151",
      "metadata": {
        "ExecuteTime": {
          "end_time": "2023-02-27T15:45:13.602448Z",
          "start_time": "2023-02-27T15:45:13.582056Z"
        },
        "id": "feb51151"
      },
      "outputs": [],
      "source": [
        "# Importing the necessary packages\n",
        "from sklearn.model_selection import GridSearchCV, KFold\n",
        "from keras.models import Sequential\n",
        "from keras.layers import Dense\n",
        "from keras.wrappers.scikit_learn import KerasClassifier\n",
        "from keras.optimizers import Adam"
      ]
    },
    {
      "cell_type": "code",
      "execution_count": null,
      "id": "69fb3728",
      "metadata": {
        "ExecuteTime": {
          "end_time": "2023-02-27T15:45:22.073150Z",
          "start_time": "2023-02-27T15:45:22.057631Z"
        },
        "id": "69fb3728"
      },
      "outputs": [],
      "source": [
        "# create model\n",
        "def create_model():\n",
        "    model = Sequential()\n",
        "    model.add(Dense(12, input_dim=8, kernel_initializer='uniform', activation='relu'))\n",
        "    model.add(Dense(8, kernel_initializer='uniform', activation='relu'))\n",
        "    model.add(Dense(1, kernel_initializer='uniform', activation='sigmoid'))\n",
        "    \n",
        "    adam=Adam(lr=0.01)\n",
        "    model.compile(loss='binary_crossentropy', optimizer=adam, metrics=['accuracy'])\n",
        "    return model"
      ]
    },
    {
      "cell_type": "code",
      "execution_count": null,
      "id": "f938986b",
      "metadata": {
        "ExecuteTime": {
          "end_time": "2023-02-27T15:45:29.068941Z",
          "start_time": "2023-02-27T15:45:29.046950Z"
        },
        "id": "f938986b"
      },
      "outputs": [],
      "source": [
        "from sklearn.preprocessing import StandardScaler\n",
        "a = StandardScaler()\n",
        "a.fit(X)\n",
        "X_standardized = a.transform(X)"
      ]
    },
    {
      "cell_type": "markdown",
      "id": "321d1dca",
      "metadata": {
        "id": "321d1dca"
      },
      "source": [
        "# Tuning of Hyperparameters:- Learning rate and Drop out rate"
      ]
    },
    {
      "cell_type": "code",
      "execution_count": null,
      "id": "41eb5353",
      "metadata": {
        "ExecuteTime": {
          "end_time": "2023-02-27T15:48:37.946439Z",
          "start_time": "2023-02-27T15:46:09.413150Z"
        },
        "id": "41eb5353",
        "outputId": "0d4ddfde-ce3e-44e9-8330-1f8ef245cfc8"
      },
      "outputs": [
        {
          "name": "stdout",
          "output_type": "stream",
          "text": [
            "Fitting 5 folds for each of 9 candidates, totalling 45 fits\n",
            "[CV 1/5; 1/9] START dropout_rate=0.0, learning_rate=0.001.......................\n",
            "[CV 1/5; 1/9] END dropout_rate=0.0, learning_rate=0.001;, score=1.000 total time=   2.3s\n",
            "[CV 2/5; 1/9] START dropout_rate=0.0, learning_rate=0.001.......................\n",
            "[CV 2/5; 1/9] END dropout_rate=0.0, learning_rate=0.001;, score=0.986 total time=   2.5s\n",
            "[CV 3/5; 1/9] START dropout_rate=0.0, learning_rate=0.001.......................\n",
            "[CV 3/5; 1/9] END dropout_rate=0.0, learning_rate=0.001;, score=0.959 total time=   2.5s\n",
            "[CV 4/5; 1/9] START dropout_rate=0.0, learning_rate=0.001.......................\n",
            "[CV 4/5; 1/9] END dropout_rate=0.0, learning_rate=0.001;, score=0.986 total time=   2.7s\n",
            "[CV 5/5; 1/9] START dropout_rate=0.0, learning_rate=0.001.......................\n",
            "[CV 5/5; 1/9] END dropout_rate=0.0, learning_rate=0.001;, score=1.000 total time=   2.3s\n",
            "[CV 1/5; 2/9] START dropout_rate=0.0, learning_rate=0.01........................\n",
            "[CV 1/5; 2/9] END dropout_rate=0.0, learning_rate=0.01;, score=1.000 total time=   2.2s\n",
            "[CV 2/5; 2/9] START dropout_rate=0.0, learning_rate=0.01........................\n",
            "[CV 2/5; 2/9] END dropout_rate=0.0, learning_rate=0.01;, score=0.966 total time=   2.7s\n",
            "[CV 3/5; 2/9] START dropout_rate=0.0, learning_rate=0.01........................\n",
            "[CV 3/5; 2/9] END dropout_rate=0.0, learning_rate=0.01;, score=0.966 total time=   2.3s\n",
            "[CV 4/5; 2/9] START dropout_rate=0.0, learning_rate=0.01........................\n",
            "[CV 4/5; 2/9] END dropout_rate=0.0, learning_rate=0.01;, score=0.986 total time=   2.6s\n",
            "[CV 5/5; 2/9] START dropout_rate=0.0, learning_rate=0.01........................\n",
            "[CV 5/5; 2/9] END dropout_rate=0.0, learning_rate=0.01;, score=1.000 total time=   2.4s\n",
            "[CV 1/5; 3/9] START dropout_rate=0.0, learning_rate=0.1.........................\n",
            "[CV 1/5; 3/9] END dropout_rate=0.0, learning_rate=0.1;, score=0.986 total time=   2.1s\n",
            "[CV 2/5; 3/9] START dropout_rate=0.0, learning_rate=0.1.........................\n",
            "[CV 2/5; 3/9] END dropout_rate=0.0, learning_rate=0.1;, score=0.959 total time=   2.7s\n",
            "[CV 3/5; 3/9] START dropout_rate=0.0, learning_rate=0.1.........................\n",
            "[CV 3/5; 3/9] END dropout_rate=0.0, learning_rate=0.1;, score=0.959 total time=   2.8s\n",
            "[CV 4/5; 3/9] START dropout_rate=0.0, learning_rate=0.1.........................\n",
            "[CV 4/5; 3/9] END dropout_rate=0.0, learning_rate=0.1;, score=0.966 total time=   3.1s\n",
            "[CV 5/5; 3/9] START dropout_rate=0.0, learning_rate=0.1.........................\n",
            "[CV 5/5; 3/9] END dropout_rate=0.0, learning_rate=0.1;, score=1.000 total time=   3.3s\n",
            "[CV 1/5; 4/9] START dropout_rate=0.1, learning_rate=0.001.......................\n",
            "[CV 1/5; 4/9] END dropout_rate=0.1, learning_rate=0.001;, score=0.993 total time=   3.8s\n",
            "[CV 2/5; 4/9] START dropout_rate=0.1, learning_rate=0.001.......................\n",
            "[CV 2/5; 4/9] END dropout_rate=0.1, learning_rate=0.001;, score=0.993 total time=   3.4s\n",
            "[CV 3/5; 4/9] START dropout_rate=0.1, learning_rate=0.001.......................\n",
            "[CV 3/5; 4/9] END dropout_rate=0.1, learning_rate=0.001;, score=0.973 total time=   2.2s\n",
            "[CV 4/5; 4/9] START dropout_rate=0.1, learning_rate=0.001.......................\n",
            "[CV 4/5; 4/9] END dropout_rate=0.1, learning_rate=0.001;, score=0.986 total time=   3.3s\n",
            "[CV 5/5; 4/9] START dropout_rate=0.1, learning_rate=0.001.......................\n",
            "[CV 5/5; 4/9] END dropout_rate=0.1, learning_rate=0.001;, score=1.000 total time=   3.7s\n",
            "[CV 1/5; 5/9] START dropout_rate=0.1, learning_rate=0.01........................\n",
            "[CV 1/5; 5/9] END dropout_rate=0.1, learning_rate=0.01;, score=0.993 total time=   2.8s\n",
            "[CV 2/5; 5/9] START dropout_rate=0.1, learning_rate=0.01........................\n",
            "[CV 2/5; 5/9] END dropout_rate=0.1, learning_rate=0.01;, score=0.980 total time=   3.4s\n",
            "[CV 3/5; 5/9] START dropout_rate=0.1, learning_rate=0.01........................\n",
            "[CV 3/5; 5/9] END dropout_rate=0.1, learning_rate=0.01;, score=0.912 total time=   3.4s\n",
            "[CV 4/5; 5/9] START dropout_rate=0.1, learning_rate=0.01........................\n",
            "[CV 4/5; 5/9] END dropout_rate=0.1, learning_rate=0.01;, score=0.986 total time=   4.0s\n",
            "[CV 5/5; 5/9] START dropout_rate=0.1, learning_rate=0.01........................\n",
            "[CV 5/5; 5/9] END dropout_rate=0.1, learning_rate=0.01;, score=1.000 total time=   3.5s\n",
            "[CV 1/5; 6/9] START dropout_rate=0.1, learning_rate=0.1.........................\n",
            "[CV 1/5; 6/9] END dropout_rate=0.1, learning_rate=0.1;, score=0.993 total time=   3.7s\n",
            "[CV 2/5; 6/9] START dropout_rate=0.1, learning_rate=0.1.........................\n",
            "[CV 2/5; 6/9] END dropout_rate=0.1, learning_rate=0.1;, score=0.966 total time=   3.7s\n",
            "[CV 3/5; 6/9] START dropout_rate=0.1, learning_rate=0.1.........................\n",
            "[CV 3/5; 6/9] END dropout_rate=0.1, learning_rate=0.1;, score=0.926 total time=   2.4s\n",
            "[CV 4/5; 6/9] START dropout_rate=0.1, learning_rate=0.1.........................\n",
            "[CV 4/5; 6/9] END dropout_rate=0.1, learning_rate=0.1;, score=0.952 total time=   3.6s\n",
            "[CV 5/5; 6/9] START dropout_rate=0.1, learning_rate=0.1.........................\n",
            "[CV 5/5; 6/9] END dropout_rate=0.1, learning_rate=0.1;, score=0.959 total time=   3.0s\n",
            "[CV 1/5; 7/9] START dropout_rate=0.2, learning_rate=0.001.......................\n",
            "[CV 1/5; 7/9] END dropout_rate=0.2, learning_rate=0.001;, score=0.993 total time=   3.4s\n",
            "[CV 2/5; 7/9] START dropout_rate=0.2, learning_rate=0.001.......................\n",
            "[CV 2/5; 7/9] END dropout_rate=0.2, learning_rate=0.001;, score=1.000 total time=   2.8s\n",
            "[CV 3/5; 7/9] START dropout_rate=0.2, learning_rate=0.001.......................\n",
            "[CV 3/5; 7/9] END dropout_rate=0.2, learning_rate=0.001;, score=0.966 total time=   2.8s\n",
            "[CV 4/5; 7/9] START dropout_rate=0.2, learning_rate=0.001.......................\n",
            "[CV 4/5; 7/9] END dropout_rate=0.2, learning_rate=0.001;, score=0.986 total time=   3.0s\n",
            "[CV 5/5; 7/9] START dropout_rate=0.2, learning_rate=0.001.......................\n",
            "[CV 5/5; 7/9] END dropout_rate=0.2, learning_rate=0.001;, score=1.000 total time=   3.5s\n",
            "[CV 1/5; 8/9] START dropout_rate=0.2, learning_rate=0.01........................\n",
            "[CV 1/5; 8/9] END dropout_rate=0.2, learning_rate=0.01;, score=1.000 total time=   3.7s\n",
            "[CV 2/5; 8/9] START dropout_rate=0.2, learning_rate=0.01........................\n",
            "[CV 2/5; 8/9] END dropout_rate=0.2, learning_rate=0.01;, score=0.986 total time=   3.3s\n",
            "[CV 3/5; 8/9] START dropout_rate=0.2, learning_rate=0.01........................\n",
            "[CV 3/5; 8/9] END dropout_rate=0.2, learning_rate=0.01;, score=0.959 total time=   2.3s\n",
            "[CV 4/5; 8/9] START dropout_rate=0.2, learning_rate=0.01........................\n",
            "[CV 4/5; 8/9] END dropout_rate=0.2, learning_rate=0.01;, score=0.973 total time=   3.7s\n",
            "[CV 5/5; 8/9] START dropout_rate=0.2, learning_rate=0.01........................\n",
            "[CV 5/5; 8/9] END dropout_rate=0.2, learning_rate=0.01;, score=1.000 total time=   4.0s\n",
            "[CV 1/5; 9/9] START dropout_rate=0.2, learning_rate=0.1.........................\n",
            "[CV 1/5; 9/9] END dropout_rate=0.2, learning_rate=0.1;, score=0.980 total time=   3.5s\n",
            "[CV 2/5; 9/9] START dropout_rate=0.2, learning_rate=0.1.........................\n",
            "[CV 2/5; 9/9] END dropout_rate=0.2, learning_rate=0.1;, score=0.811 total time=   3.5s\n",
            "[CV 3/5; 9/9] START dropout_rate=0.2, learning_rate=0.1.........................\n",
            "[CV 3/5; 9/9] END dropout_rate=0.2, learning_rate=0.1;, score=0.926 total time=   3.8s\n",
            "[CV 4/5; 9/9] START dropout_rate=0.2, learning_rate=0.1.........................\n",
            "[CV 4/5; 9/9] END dropout_rate=0.2, learning_rate=0.1;, score=0.932 total time=   3.5s\n",
            "[CV 5/5; 9/9] START dropout_rate=0.2, learning_rate=0.1.........................\n",
            "[CV 5/5; 9/9] END dropout_rate=0.2, learning_rate=0.1;, score=0.932 total time=   3.8s\n"
          ]
        }
      ],
      "source": [
        "from keras.layers import Dropout\n",
        "\n",
        "# Defining the model\n",
        "\n",
        "def create_model2(learning_rate,dropout_rate):\n",
        "    model = Sequential()\n",
        "    model.add(Dense(14,input_dim = 11,kernel_initializer = 'uniform',activation = 'relu'))\n",
        "    model.add(Dropout(dropout_rate))\n",
        "    model.add(Dense(12,input_dim = 14,kernel_initializer = 'uniform',activation = 'relu'))\n",
        "    model.add(Dropout(dropout_rate))\n",
        "    model.add(Dense(1,kernel_initializer='uniform',activation = 'sigmoid'))\n",
        "    \n",
        "    adam = Adam(lr = learning_rate)\n",
        "    model.compile(loss = 'binary_crossentropy',optimizer = adam,metrics = ['accuracy'])\n",
        "    return model\n",
        "\n",
        "# Create the model\n",
        "\n",
        "model2 = KerasClassifier(build_fn = create_model2,verbose = 0,batch_size = 20,epochs = 50)\n",
        "\n",
        "# Define the grid search parameters\n",
        "\n",
        "learning_rate = [0.001,0.01,0.1]\n",
        "dropout_rate = [0.0,0.1,0.2]\n",
        "\n",
        "# Make a dictionary of the grid search parameters\n",
        "\n",
        "param_grids2 = dict(learning_rate = learning_rate,dropout_rate = dropout_rate)\n",
        "\n",
        "# Build and fit the GridSearchCV\n",
        "\n",
        "grid2 = GridSearchCV(estimator = model2,param_grid = param_grids2,cv = KFold(),verbose = 10)\n",
        "grid_result2 = grid2.fit(X_standardized,Y)"
      ]
    },
    {
      "cell_type": "code",
      "execution_count": null,
      "id": "b9c1965a",
      "metadata": {
        "ExecuteTime": {
          "end_time": "2023-02-27T15:48:55.334274Z",
          "start_time": "2023-02-27T15:48:55.326215Z"
        },
        "id": "b9c1965a",
        "outputId": "5e675261-a078-471a-b180-35df8dfb033d"
      },
      "outputs": [
        {
          "name": "stdout",
          "output_type": "stream",
          "text": [
            "Best : 0.9891708016395568, using {'dropout_rate': 0.1, 'learning_rate': 0.001}\n",
            "0.9864681124687195,0.014803349193523803 with: {'dropout_rate': 0.0, 'learning_rate': 0.001}\n",
            "0.9837653994560241,0.015165655048271168 with: {'dropout_rate': 0.0, 'learning_rate': 0.01}\n",
            "0.9742783665657043,0.016239437110290533 with: {'dropout_rate': 0.0, 'learning_rate': 0.1}\n",
            "0.9891708016395568,0.00917079269770246 with: {'dropout_rate': 0.1, 'learning_rate': 0.001}\n",
            "0.9743059396743774,0.03180001301564746 with: {'dropout_rate': 0.1, 'learning_rate': 0.01}\n",
            "0.959339952468872,0.021810313447674833 with: {'dropout_rate': 0.1, 'learning_rate': 0.1}\n",
            "0.9891708016395568,0.012535936056220947 with: {'dropout_rate': 0.2, 'learning_rate': 0.001}\n",
            "0.9837470173835754,0.0157846994311245 with: {'dropout_rate': 0.2, 'learning_rate': 0.01}\n",
            "0.916032361984253,0.05608942431853216 with: {'dropout_rate': 0.2, 'learning_rate': 0.1}\n"
          ]
        }
      ],
      "source": [
        "# Summarize the results\n",
        "print('Best : {}, using {}'.format(grid_result2.best_score_,grid_result2.best_params_))\n",
        "means2 = grid_result2.cv_results_['mean_test_score']\n",
        "stds2 = grid_result2.cv_results_['std_test_score']\n",
        "params2 = grid_result2.cv_results_['params']\n",
        "for mean, stdev, param in zip(means2, stds2, params2):\n",
        "  print('{},{} with: {}'.format(mean, stdev, param))\n",
        "#Best score for Dropout rate = 0.2 and learning rate is 0.001"
      ]
    },
    {
      "cell_type": "markdown",
      "id": "c46dd8ea",
      "metadata": {
        "id": "c46dd8ea"
      },
      "source": [
        "# Tuning of Hyperparameters:- Activation Function and Kernel Initializer"
      ]
    },
    {
      "cell_type": "code",
      "execution_count": null,
      "id": "c32026da",
      "metadata": {
        "ExecuteTime": {
          "end_time": "2023-02-27T15:53:14.749316Z",
          "start_time": "2023-02-27T15:49:46.277148Z"
        },
        "id": "c32026da",
        "outputId": "f4590695-79d1-461d-859b-ed205524499b"
      },
      "outputs": [
        {
          "name": "stdout",
          "output_type": "stream",
          "text": [
            "Fitting 5 folds for each of 12 candidates, totalling 60 fits\n",
            "[CV 1/5; 1/12] START activation_function=softmax, init=uniform..................\n",
            "[CV 1/5; 1/12] END activation_function=softmax, init=uniform;, score=0.007 total time=   2.6s\n",
            "[CV 2/5; 1/12] START activation_function=softmax, init=uniform..................\n",
            "[CV 2/5; 1/12] END activation_function=softmax, init=uniform;, score=0.689 total time=   2.8s\n",
            "[CV 3/5; 1/12] START activation_function=softmax, init=uniform..................\n",
            "[CV 3/5; 1/12] END activation_function=softmax, init=uniform;, score=0.554 total time=   4.0s\n",
            "[CV 4/5; 1/12] START activation_function=softmax, init=uniform..................\n",
            "[CV 4/5; 1/12] END activation_function=softmax, init=uniform;, score=0.578 total time=   3.9s\n",
            "[CV 5/5; 1/12] START activation_function=softmax, init=uniform..................\n",
            "[CV 5/5; 1/12] END activation_function=softmax, init=uniform;, score=0.000 total time=   4.0s\n",
            "[CV 1/5; 2/12] START activation_function=softmax, init=normal...................\n",
            "[CV 1/5; 2/12] END activation_function=softmax, init=normal;, score=0.007 total time=   3.2s\n",
            "[CV 2/5; 2/12] START activation_function=softmax, init=normal...................\n",
            "[CV 2/5; 2/12] END activation_function=softmax, init=normal;, score=0.723 total time=   2.9s\n",
            "[CV 3/5; 2/12] START activation_function=softmax, init=normal...................\n",
            "[CV 3/5; 2/12] END activation_function=softmax, init=normal;, score=0.500 total time=   3.6s\n",
            "[CV 4/5; 2/12] START activation_function=softmax, init=normal...................\n",
            "[CV 4/5; 2/12] END activation_function=softmax, init=normal;, score=0.578 total time=   3.8s\n",
            "[CV 5/5; 2/12] START activation_function=softmax, init=normal...................\n",
            "[CV 5/5; 2/12] END activation_function=softmax, init=normal;, score=0.190 total time=   4.3s\n",
            "[CV 1/5; 3/12] START activation_function=softmax, init=zero.....................\n",
            "[CV 1/5; 3/12] END activation_function=softmax, init=zero;, score=0.000 total time=   3.1s\n",
            "[CV 2/5; 3/12] START activation_function=softmax, init=zero.....................\n",
            "[CV 2/5; 3/12] END activation_function=softmax, init=zero;, score=0.723 total time=   2.6s\n",
            "[CV 3/5; 3/12] START activation_function=softmax, init=zero.....................\n",
            "[CV 3/5; 3/12] END activation_function=softmax, init=zero;, score=0.466 total time=   3.6s\n",
            "[CV 4/5; 3/12] START activation_function=softmax, init=zero.....................\n",
            "[CV 4/5; 3/12] END activation_function=softmax, init=zero;, score=0.544 total time=   4.1s\n",
            "[CV 5/5; 3/12] START activation_function=softmax, init=zero.....................\n",
            "[CV 5/5; 3/12] END activation_function=softmax, init=zero;, score=0.000 total time=   3.6s\n",
            "[CV 1/5; 4/12] START activation_function=relu, init=uniform.....................\n",
            "[CV 1/5; 4/12] END activation_function=relu, init=uniform;, score=1.000 total time=   3.3s\n",
            "[CV 2/5; 4/12] START activation_function=relu, init=uniform.....................\n",
            "[CV 2/5; 4/12] END activation_function=relu, init=uniform;, score=0.993 total time=   3.2s\n",
            "[CV 3/5; 4/12] START activation_function=relu, init=uniform.....................\n",
            "[CV 3/5; 4/12] END activation_function=relu, init=uniform;, score=0.973 total time=   2.6s\n",
            "[CV 4/5; 4/12] START activation_function=relu, init=uniform.....................\n",
            "[CV 4/5; 4/12] END activation_function=relu, init=uniform;, score=0.993 total time=   2.3s\n",
            "[CV 5/5; 4/12] START activation_function=relu, init=uniform.....................\n",
            "[CV 5/5; 4/12] END activation_function=relu, init=uniform;, score=0.986 total time=   3.5s\n",
            "[CV 1/5; 5/12] START activation_function=relu, init=normal......................\n",
            "[CV 1/5; 5/12] END activation_function=relu, init=normal;, score=1.000 total time=   3.5s\n",
            "[CV 2/5; 5/12] START activation_function=relu, init=normal......................\n",
            "[CV 2/5; 5/12] END activation_function=relu, init=normal;, score=0.993 total time=   2.5s\n",
            "[CV 3/5; 5/12] START activation_function=relu, init=normal......................\n",
            "[CV 3/5; 5/12] END activation_function=relu, init=normal;, score=0.966 total time=   2.9s\n",
            "[CV 4/5; 5/12] START activation_function=relu, init=normal......................\n",
            "[CV 4/5; 5/12] END activation_function=relu, init=normal;, score=0.980 total time=   2.5s\n",
            "[CV 5/5; 5/12] START activation_function=relu, init=normal......................\n",
            "[CV 5/5; 5/12] END activation_function=relu, init=normal;, score=0.986 total time=   3.4s\n",
            "[CV 1/5; 6/12] START activation_function=relu, init=zero........................\n",
            "[CV 1/5; 6/12] END activation_function=relu, init=zero;, score=0.000 total time=   2.2s\n",
            "[CV 2/5; 6/12] START activation_function=relu, init=zero........................\n",
            "[CV 2/5; 6/12] END activation_function=relu, init=zero;, score=0.493 total time=   3.0s\n",
            "[CV 3/5; 6/12] START activation_function=relu, init=zero........................\n",
            "[CV 3/5; 6/12] END activation_function=relu, init=zero;, score=0.270 total time=   3.3s\n",
            "[CV 4/5; 6/12] START activation_function=relu, init=zero........................\n",
            "[CV 4/5; 6/12] END activation_function=relu, init=zero;, score=0.259 total time=   3.7s\n",
            "[CV 5/5; 6/12] START activation_function=relu, init=zero........................\n",
            "[CV 5/5; 6/12] END activation_function=relu, init=zero;, score=0.000 total time=   3.8s\n",
            "[CV 1/5; 7/12] START activation_function=tanh, init=uniform.....................\n",
            "[CV 1/5; 7/12] END activation_function=tanh, init=uniform;, score=1.000 total time=   3.9s\n",
            "[CV 2/5; 7/12] START activation_function=tanh, init=uniform.....................\n",
            "[CV 2/5; 7/12] END activation_function=tanh, init=uniform;, score=0.986 total time=   2.5s\n",
            "[CV 3/5; 7/12] START activation_function=tanh, init=uniform.....................\n",
            "[CV 3/5; 7/12] END activation_function=tanh, init=uniform;, score=0.966 total time=   3.3s\n",
            "[CV 4/5; 7/12] START activation_function=tanh, init=uniform.....................\n",
            "[CV 4/5; 7/12] END activation_function=tanh, init=uniform;, score=0.986 total time=   2.8s\n",
            "[CV 5/5; 7/12] START activation_function=tanh, init=uniform.....................\n",
            "[CV 5/5; 7/12] END activation_function=tanh, init=uniform;, score=0.986 total time=   2.9s\n",
            "[CV 1/5; 8/12] START activation_function=tanh, init=normal......................\n",
            "[CV 1/5; 8/12] END activation_function=tanh, init=normal;, score=1.000 total time=   3.5s\n",
            "[CV 2/5; 8/12] START activation_function=tanh, init=normal......................\n",
            "[CV 2/5; 8/12] END activation_function=tanh, init=normal;, score=0.986 total time=   3.0s\n",
            "[CV 3/5; 8/12] START activation_function=tanh, init=normal......................\n",
            "[CV 3/5; 8/12] END activation_function=tanh, init=normal;, score=0.973 total time=   2.6s\n",
            "[CV 4/5; 8/12] START activation_function=tanh, init=normal......................\n",
            "[CV 4/5; 8/12] END activation_function=tanh, init=normal;, score=0.993 total time=   3.6s\n",
            "[CV 5/5; 8/12] START activation_function=tanh, init=normal......................\n",
            "[CV 5/5; 8/12] END activation_function=tanh, init=normal;, score=0.993 total time=   3.6s\n",
            "[CV 1/5; 9/12] START activation_function=tanh, init=zero........................\n",
            "[CV 1/5; 9/12] END activation_function=tanh, init=zero;, score=0.000 total time=   3.8s\n",
            "[CV 2/5; 9/12] START activation_function=tanh, init=zero........................\n",
            "[CV 2/5; 9/12] END activation_function=tanh, init=zero;, score=0.507 total time=   4.4s\n",
            "[CV 3/5; 9/12] START activation_function=tanh, init=zero........................\n",
            "[CV 3/5; 9/12] END activation_function=tanh, init=zero;, score=0.270 total time=   3.8s\n",
            "[CV 4/5; 9/12] START activation_function=tanh, init=zero........................\n",
            "[CV 4/5; 9/12] END activation_function=tanh, init=zero;, score=0.259 total time=   3.7s\n",
            "[CV 5/5; 9/12] START activation_function=tanh, init=zero........................\n",
            "[CV 5/5; 9/12] END activation_function=tanh, init=zero;, score=0.000 total time=   3.6s\n",
            "[CV 1/5; 10/12] START activation_function=linear, init=uniform..................\n",
            "[CV 1/5; 10/12] END activation_function=linear, init=uniform;, score=1.000 total time=   3.9s\n",
            "[CV 2/5; 10/12] START activation_function=linear, init=uniform..................\n",
            "[CV 2/5; 10/12] END activation_function=linear, init=uniform;, score=0.986 total time=   3.6s\n",
            "[CV 3/5; 10/12] START activation_function=linear, init=uniform..................\n",
            "[CV 3/5; 10/12] END activation_function=linear, init=uniform;, score=0.973 total time=   3.8s\n",
            "[CV 4/5; 10/12] START activation_function=linear, init=uniform..................\n",
            "[CV 4/5; 10/12] END activation_function=linear, init=uniform;, score=0.980 total time=   2.7s\n",
            "[CV 5/5; 10/12] START activation_function=linear, init=uniform..................\n",
            "[CV 5/5; 10/12] END activation_function=linear, init=uniform;, score=0.993 total time=   3.1s\n",
            "[CV 1/5; 11/12] START activation_function=linear, init=normal...................\n",
            "[CV 1/5; 11/12] END activation_function=linear, init=normal;, score=1.000 total time=   3.1s\n",
            "[CV 2/5; 11/12] START activation_function=linear, init=normal...................\n",
            "[CV 2/5; 11/12] END activation_function=linear, init=normal;, score=0.986 total time=   3.1s\n",
            "[CV 3/5; 11/12] START activation_function=linear, init=normal...................\n",
            "[CV 3/5; 11/12] END activation_function=linear, init=normal;, score=0.966 total time=   2.5s\n",
            "[CV 4/5; 11/12] START activation_function=linear, init=normal...................\n",
            "[CV 4/5; 11/12] END activation_function=linear, init=normal;, score=0.993 total time=   3.4s\n",
            "[CV 5/5; 11/12] START activation_function=linear, init=normal...................\n",
            "[CV 5/5; 11/12] END activation_function=linear, init=normal;, score=0.993 total time=   2.4s\n",
            "[CV 1/5; 12/12] START activation_function=linear, init=zero.....................\n",
            "[CV 1/5; 12/12] END activation_function=linear, init=zero;, score=0.000 total time=   2.3s\n",
            "[CV 2/5; 12/12] START activation_function=linear, init=zero.....................\n",
            "[CV 2/5; 12/12] END activation_function=linear, init=zero;, score=0.507 total time=   3.5s\n",
            "[CV 3/5; 12/12] START activation_function=linear, init=zero.....................\n",
            "[CV 3/5; 12/12] END activation_function=linear, init=zero;, score=0.270 total time=   3.7s\n",
            "[CV 4/5; 12/12] START activation_function=linear, init=zero.....................\n",
            "[CV 4/5; 12/12] END activation_function=linear, init=zero;, score=0.259 total time=   3.9s\n",
            "[CV 5/5; 12/12] START activation_function=linear, init=zero.....................\n",
            "[CV 5/5; 12/12] END activation_function=linear, init=zero;, score=0.000 total time=   3.9s\n"
          ]
        }
      ],
      "source": [
        "# Defining the model\n",
        "\n",
        "def create_model3(activation_function,init):\n",
        "    model = Sequential()\n",
        "    model.add(Dense(14,input_dim = 11,kernel_initializer = init,activation = activation_function))\n",
        "    model.add(Dropout(0.2))\n",
        "    model.add(Dense(12,input_dim = 14,kernel_initializer = init,activation = activation_function))\n",
        "    model.add(Dropout(0.2))\n",
        "    model.add(Dense(1,activation = 'sigmoid'))\n",
        "    \n",
        "    adam = Adam(lr = 0.001)\n",
        "    model.compile(loss = 'binary_crossentropy',optimizer = adam,metrics = ['accuracy'])\n",
        "    return model\n",
        "\n",
        "# Create the model\n",
        "\n",
        "model3 = KerasClassifier(build_fn = create_model3,verbose = 0,batch_size = 20,epochs = 50)\n",
        "\n",
        "# Define the grid search parameters\n",
        "activation_function = ['softmax','relu','tanh','linear']\n",
        "init = ['uniform','normal','zero']\n",
        "\n",
        "# Make a dictionary of the grid search parameters\n",
        "param_grids3 = dict(activation_function = activation_function,init = init)\n",
        "\n",
        "# Build and fit the GridSearchCV\n",
        "\n",
        "grid3 = GridSearchCV(estimator = model3,param_grid = param_grids3,cv = KFold(),verbose = 10)\n",
        "grid_result3 = grid3.fit(X_standardized,Y)"
      ]
    },
    {
      "cell_type": "code",
      "execution_count": null,
      "id": "9ccb68d5",
      "metadata": {
        "ExecuteTime": {
          "end_time": "2023-02-27T15:53:44.384991Z",
          "start_time": "2023-02-27T15:53:44.364570Z"
        },
        "id": "9ccb68d5",
        "outputId": "cc739668-a426-4748-993b-1a0c366c4751"
      },
      "outputs": [
        {
          "name": "stdout",
          "output_type": "stream",
          "text": [
            "Best : 0.9891708016395568, using {'activation_function': 'tanh', 'init': 'normal'}\n",
            "0.3656462618149817,0.2992887535099592 with: {'activation_function': 'softmax', 'init': 'uniform'}\n",
            "0.3996874430216849,0.26253301664099327 with: {'activation_function': 'softmax', 'init': 'normal'}\n",
            "0.34668138027191164,0.2950527099632332 with: {'activation_function': 'softmax', 'init': 'zero'}\n",
            "0.9891616106033325,0.009166728814687148 with: {'activation_function': 'relu', 'init': 'uniform'}\n",
            "0.9850891709327698,0.011635589911829294 with: {'activation_function': 'relu', 'init': 'normal'}\n",
            "0.20440338253974916,0.1866843384032856 with: {'activation_function': 'relu', 'init': 'zero'}\n",
            "0.985098373889923,0.010806312093622275 with: {'activation_function': 'tanh', 'init': 'uniform'}\n",
            "0.9891708016395568,0.009157193282444154 with: {'activation_function': 'tanh', 'init': 'normal'}\n",
            "0.20710608959197999,0.1908967254445713 with: {'activation_function': 'tanh', 'init': 'zero'}\n",
            "0.9864497184753418,0.009568630758855423 with: {'activation_function': 'linear', 'init': 'uniform'}\n",
            "0.9878194451332092,0.01161623369326875 with: {'activation_function': 'linear', 'init': 'normal'}\n",
            "0.20710608959197999,0.1908967254445713 with: {'activation_function': 'linear', 'init': 'zero'}\n"
          ]
        }
      ],
      "source": [
        "# Summarize the results\n",
        "print('Best : {}, using {}'.format(grid_result3.best_score_,grid_result3.best_params_))\n",
        "means3 = grid_result3.cv_results_['mean_test_score']\n",
        "stds3 = grid_result3.cv_results_['std_test_score']\n",
        "params3 = grid_result3.cv_results_['params']\n",
        "for mean, stdev, param in zip(means3, stds3, params3):\n",
        "  print('{},{} with: {}'.format(mean, stdev, param))\n",
        "#best activation function in our case would be Relu and Kernel Initializer is Uniform"
      ]
    },
    {
      "cell_type": "markdown",
      "id": "04142fc2",
      "metadata": {
        "id": "04142fc2"
      },
      "source": [
        "# Tuning of Hyperparameter :-Number of Neurons in activation layer"
      ]
    },
    {
      "cell_type": "code",
      "execution_count": null,
      "id": "a923f542",
      "metadata": {
        "ExecuteTime": {
          "end_time": "2023-02-27T15:57:23.622555Z",
          "start_time": "2023-02-27T15:54:38.987948Z"
        },
        "id": "a923f542",
        "outputId": "1617541f-5190-443a-e963-18b25441ef05"
      },
      "outputs": [
        {
          "name": "stdout",
          "output_type": "stream",
          "text": [
            "Fitting 5 folds for each of 9 candidates, totalling 45 fits\n",
            "[CV 1/5; 1/9] START neuron1=4, neuron2=4........................................\n",
            "[CV 1/5; 1/9] END .........neuron1=4, neuron2=4;, score=0.993 total time=   3.2s\n",
            "[CV 2/5; 1/9] START neuron1=4, neuron2=4........................................\n",
            "[CV 2/5; 1/9] END .........neuron1=4, neuron2=4;, score=0.973 total time=   2.8s\n",
            "[CV 3/5; 1/9] START neuron1=4, neuron2=4........................................\n",
            "[CV 3/5; 1/9] END .........neuron1=4, neuron2=4;, score=0.926 total time=   2.2s\n",
            "[CV 4/5; 1/9] START neuron1=4, neuron2=4........................................\n",
            "[CV 4/5; 1/9] END .........neuron1=4, neuron2=4;, score=0.932 total time=   2.9s\n",
            "[CV 5/5; 1/9] START neuron1=4, neuron2=4........................................\n",
            "[CV 5/5; 1/9] END .........neuron1=4, neuron2=4;, score=0.810 total time=   2.7s\n",
            "[CV 1/5; 2/9] START neuron1=4, neuron2=8........................................\n",
            "[CV 1/5; 2/9] END .........neuron1=4, neuron2=8;, score=0.993 total time=   3.3s\n",
            "[CV 2/5; 2/9] START neuron1=4, neuron2=8........................................\n",
            "[CV 2/5; 2/9] END .........neuron1=4, neuron2=8;, score=0.986 total time=   3.1s\n",
            "[CV 3/5; 2/9] START neuron1=4, neuron2=8........................................\n",
            "[CV 3/5; 2/9] END .........neuron1=4, neuron2=8;, score=0.946 total time=   3.8s\n",
            "[CV 4/5; 2/9] START neuron1=4, neuron2=8........................................\n",
            "[CV 4/5; 2/9] END .........neuron1=4, neuron2=8;, score=0.993 total time=   3.2s\n",
            "[CV 5/5; 2/9] START neuron1=4, neuron2=8........................................\n",
            "[CV 5/5; 2/9] END .........neuron1=4, neuron2=8;, score=0.939 total time=   3.8s\n",
            "[CV 1/5; 3/9] START neuron1=4, neuron2=12.......................................\n",
            "[CV 1/5; 3/9] END ........neuron1=4, neuron2=12;, score=0.993 total time=   3.4s\n",
            "[CV 2/5; 3/9] START neuron1=4, neuron2=12.......................................\n",
            "[CV 2/5; 3/9] END ........neuron1=4, neuron2=12;, score=0.986 total time=   3.0s\n",
            "[CV 3/5; 3/9] START neuron1=4, neuron2=12.......................................\n",
            "[CV 3/5; 3/9] END ........neuron1=4, neuron2=12;, score=0.966 total time=   3.3s\n",
            "[CV 4/5; 3/9] START neuron1=4, neuron2=12.......................................\n",
            "[CV 4/5; 3/9] END ........neuron1=4, neuron2=12;, score=0.993 total time=   3.0s\n",
            "[CV 5/5; 3/9] START neuron1=4, neuron2=12.......................................\n",
            "[CV 5/5; 3/9] END ........neuron1=4, neuron2=12;, score=0.986 total time=   2.2s\n",
            "[CV 1/5; 4/9] START neuron1=8, neuron2=4........................................\n",
            "[CV 1/5; 4/9] END .........neuron1=8, neuron2=4;, score=0.993 total time=   3.8s\n",
            "[CV 2/5; 4/9] START neuron1=8, neuron2=4........................................\n",
            "[CV 2/5; 4/9] END .........neuron1=8, neuron2=4;, score=0.993 total time=   3.8s\n",
            "[CV 3/5; 4/9] START neuron1=8, neuron2=4........................................\n",
            "[CV 3/5; 4/9] END .........neuron1=8, neuron2=4;, score=0.966 total time=   3.8s\n",
            "[CV 4/5; 4/9] START neuron1=8, neuron2=4........................................\n",
            "[CV 4/5; 4/9] END .........neuron1=8, neuron2=4;, score=0.986 total time=   3.7s\n",
            "[CV 5/5; 4/9] START neuron1=8, neuron2=4........................................\n",
            "[CV 5/5; 4/9] END .........neuron1=8, neuron2=4;, score=0.986 total time=   3.8s\n",
            "[CV 1/5; 5/9] START neuron1=8, neuron2=8........................................\n",
            "[CV 1/5; 5/9] END .........neuron1=8, neuron2=8;, score=1.000 total time=   3.8s\n",
            "[CV 2/5; 5/9] START neuron1=8, neuron2=8........................................\n",
            "[CV 2/5; 5/9] END .........neuron1=8, neuron2=8;, score=0.993 total time=   3.4s\n",
            "[CV 3/5; 5/9] START neuron1=8, neuron2=8........................................\n",
            "[CV 3/5; 5/9] END .........neuron1=8, neuron2=8;, score=0.966 total time=   3.9s\n",
            "[CV 4/5; 5/9] START neuron1=8, neuron2=8........................................\n",
            "[CV 4/5; 5/9] END .........neuron1=8, neuron2=8;, score=0.980 total time=   3.7s\n",
            "[CV 5/5; 5/9] START neuron1=8, neuron2=8........................................\n",
            "[CV 5/5; 5/9] END .........neuron1=8, neuron2=8;, score=0.973 total time=   3.7s\n",
            "[CV 1/5; 6/9] START neuron1=8, neuron2=12.......................................\n",
            "[CV 1/5; 6/9] END ........neuron1=8, neuron2=12;, score=1.000 total time=   3.8s\n",
            "[CV 2/5; 6/9] START neuron1=8, neuron2=12.......................................\n",
            "[CV 2/5; 6/9] END ........neuron1=8, neuron2=12;, score=1.000 total time=   3.7s\n",
            "[CV 3/5; 6/9] START neuron1=8, neuron2=12.......................................\n",
            "[CV 3/5; 6/9] END ........neuron1=8, neuron2=12;, score=0.966 total time=   3.5s\n",
            "[CV 4/5; 6/9] START neuron1=8, neuron2=12.......................................\n",
            "[CV 4/5; 6/9] END ........neuron1=8, neuron2=12;, score=0.986 total time=   3.7s\n",
            "[CV 5/5; 6/9] START neuron1=8, neuron2=12.......................................\n",
            "[CV 5/5; 6/9] END ........neuron1=8, neuron2=12;, score=0.986 total time=   4.2s\n",
            "[CV 1/5; 7/9] START neuron1=14, neuron2=4.......................................\n",
            "[CV 1/5; 7/9] END ........neuron1=14, neuron2=4;, score=1.000 total time=   3.8s\n",
            "[CV 2/5; 7/9] START neuron1=14, neuron2=4.......................................\n",
            "[CV 2/5; 7/9] END ........neuron1=14, neuron2=4;, score=0.986 total time=   3.9s\n",
            "[CV 3/5; 7/9] START neuron1=14, neuron2=4.......................................\n",
            "[CV 3/5; 7/9] END ........neuron1=14, neuron2=4;, score=0.973 total time=   3.3s\n",
            "[CV 4/5; 7/9] START neuron1=14, neuron2=4.......................................\n",
            "[CV 4/5; 7/9] END ........neuron1=14, neuron2=4;, score=0.986 total time=   3.7s\n",
            "[CV 5/5; 7/9] START neuron1=14, neuron2=4.......................................\n",
            "[CV 5/5; 7/9] END ........neuron1=14, neuron2=4;, score=0.980 total time=   3.8s\n",
            "[CV 1/5; 8/9] START neuron1=14, neuron2=8.......................................\n",
            "[CV 1/5; 8/9] END ........neuron1=14, neuron2=8;, score=1.000 total time=   3.2s\n",
            "[CV 2/5; 8/9] START neuron1=14, neuron2=8.......................................\n",
            "[CV 2/5; 8/9] END ........neuron1=14, neuron2=8;, score=1.000 total time=   4.0s\n",
            "[CV 3/5; 8/9] START neuron1=14, neuron2=8.......................................\n",
            "[CV 3/5; 8/9] END ........neuron1=14, neuron2=8;, score=0.966 total time=   3.8s\n",
            "[CV 4/5; 8/9] START neuron1=14, neuron2=8.......................................\n",
            "[CV 4/5; 8/9] END ........neuron1=14, neuron2=8;, score=0.986 total time=   3.5s\n",
            "[CV 5/5; 8/9] START neuron1=14, neuron2=8.......................................\n",
            "[CV 5/5; 8/9] END ........neuron1=14, neuron2=8;, score=1.000 total time=   3.8s\n",
            "[CV 1/5; 9/9] START neuron1=14, neuron2=12......................................\n",
            "[CV 1/5; 9/9] END .......neuron1=14, neuron2=12;, score=1.000 total time=   3.1s\n",
            "[CV 2/5; 9/9] START neuron1=14, neuron2=12......................................\n",
            "[CV 2/5; 9/9] END .......neuron1=14, neuron2=12;, score=0.993 total time=   3.2s\n",
            "[CV 3/5; 9/9] START neuron1=14, neuron2=12......................................\n",
            "[CV 3/5; 9/9] END .......neuron1=14, neuron2=12;, score=0.973 total time=   3.5s\n",
            "[CV 4/5; 9/9] START neuron1=14, neuron2=12......................................\n",
            "[CV 4/5; 9/9] END .......neuron1=14, neuron2=12;, score=0.986 total time=   3.8s\n",
            "[CV 5/5; 9/9] START neuron1=14, neuron2=12......................................\n",
            "[CV 5/5; 9/9] END .......neuron1=14, neuron2=12;, score=0.993 total time=   3.1s\n"
          ]
        }
      ],
      "source": [
        "# Defining the model\n",
        "\n",
        "def create_model4(neuron1,neuron2):\n",
        "    model = Sequential()\n",
        "    model.add(Dense(neuron1,input_dim = 11,kernel_initializer = 'uniform',activation = 'relu'))\n",
        "    model.add(Dropout(0.2))\n",
        "    model.add(Dense(neuron2,input_dim = neuron1,kernel_initializer = 'uniform',activation = 'relu'))\n",
        "    model.add(Dropout(0.2))\n",
        "    model.add(Dense(1,activation = 'sigmoid'))\n",
        "    \n",
        "    adam = Adam(lr = 0.001)\n",
        "    model.compile(loss = 'binary_crossentropy',optimizer = adam,metrics = ['accuracy'])\n",
        "    return model\n",
        "\n",
        "# Create the model\n",
        "\n",
        "model4 = KerasClassifier(build_fn = create_model4,verbose = 0,batch_size = 20,epochs = 50)\n",
        "\n",
        "# Define the grid search parameters\n",
        "\n",
        "neuron1 = [4,8,14]\n",
        "neuron2 = [4,8,12]\n",
        "\n",
        "# Make a dictionary of the grid search parameters\n",
        "\n",
        "param_grids4 = dict(neuron1 = neuron1,neuron2 = neuron2)\n",
        "\n",
        "# Build and fit the GridSearchCV\n",
        "\n",
        "grid4 = GridSearchCV(estimator = model4,param_grid = param_grids4,cv = KFold(),verbose = 10)\n",
        "grid_result4 = grid4.fit(X_standardized,Y)"
      ]
    },
    {
      "cell_type": "code",
      "execution_count": null,
      "id": "9423b54e",
      "metadata": {
        "ExecuteTime": {
          "end_time": "2023-02-27T15:57:50.236095Z",
          "start_time": "2023-02-27T15:57:50.221224Z"
        },
        "id": "9423b54e",
        "outputId": "53f50b8a-0dbf-4c32-eb9d-51fc8c027401"
      },
      "outputs": [
        {
          "name": "stdout",
          "output_type": "stream",
          "text": [
            "Best : 0.9905221581459045, using {'neuron1': 14, 'neuron2': 8}\n",
            "0.9266777038574219,0.06376252100745794 with: {'neuron1': 4, 'neuron2': 4}\n",
            "0.9715296864509583,0.024050075711958118 with: {'neuron1': 4, 'neuron2': 8}\n",
            "0.9851075530052185,0.009920416648421427 with: {'neuron1': 4, 'neuron2': 12}\n",
            "0.9850983619689941,0.00992545736464969 with: {'neuron1': 8, 'neuron2': 4}\n",
            "0.9823680758476258,0.012565829829719025 with: {'neuron1': 8, 'neuron2': 8}\n",
            "0.9878010749816895,0.012389435186066979 with: {'neuron1': 8, 'neuron2': 12}\n",
            "0.9850891828536987,0.008977882594535068 with: {'neuron1': 14, 'neuron2': 4}\n",
            "0.9905221581459045,0.01324616630153796 with: {'neuron1': 14, 'neuron2': 8}\n",
            "0.9891616106033325,0.009166728814687148 with: {'neuron1': 14, 'neuron2': 12}\n"
          ]
        }
      ],
      "source": [
        "# Summarize the results\n",
        "print('Best : {}, using {}'.format(grid_result4.best_score_,grid_result4.best_params_))\n",
        "means4 = grid_result4.cv_results_['mean_test_score']\n",
        "stds4 = grid_result4.cv_results_['std_test_score']\n",
        "params4 = grid_result4.cv_results_['params']\n",
        "for mean, stdev, param in zip(means4, stds4, params4):\n",
        "  print('{},{} with: {}'.format(mean, stdev, param))\n",
        "\n",
        "#Best results are Neuron 1 = 4 and Neuron 2 = 4"
      ]
    },
    {
      "cell_type": "markdown",
      "id": "950dc23d",
      "metadata": {
        "id": "950dc23d"
      },
      "source": [
        "# Hyperparameters all at once"
      ]
    },
    {
      "cell_type": "raw",
      "id": "da120928",
      "metadata": {
        "id": "da120928"
      },
      "source": [
        "The hyperparameter optimization was carried out by taking 2 hyperparameters at once. We may have missed the best values. The performance can be further improved by finding the optimum values of hyperparameters all at once given by the code snippet below."
      ]
    },
    {
      "cell_type": "markdown",
      "id": "39a304ff",
      "metadata": {
        "id": "39a304ff"
      },
      "source": [
        "This process is computationally expensive."
      ]
    },
    {
      "cell_type": "code",
      "execution_count": null,
      "id": "1dec576b",
      "metadata": {
        "ExecuteTime": {
          "end_time": "2023-02-27T15:59:38.512776Z",
          "start_time": "2023-02-27T15:59:35.317002Z"
        },
        "id": "1dec576b"
      },
      "outputs": [],
      "source": [
        "# Defining the model\n",
        "\n",
        "def create_model_fnl():\n",
        "    model = Sequential()\n",
        "    model.add(Dense(4,input_dim = 11,kernel_initializer = 'uniform',activation = 'relu'))\n",
        "    model.add(Dropout(0.2))\n",
        "    model.add(Dense(4,input_dim = 4,kernel_initializer = 'uniform',activation = 'relu'))\n",
        "    model.add(Dropout(0.2))\n",
        "    model.add(Dense(1,activation = 'sigmoid'))\n",
        "    \n",
        "    adam = Adam(lr = 0.001) #sgd = SGD(lr=learning_rate, momentum=momentum, decay=decay_rate, nesterov=False)\n",
        "    model.compile(loss = 'binary_crossentropy',optimizer = adam,metrics = ['accuracy'])\n",
        "    return model\n",
        "\n",
        "# Create the model\n",
        "model_fnl = KerasClassifier(build_fn = create_model_fnl,verbose = 0,batch_size = 20,epochs = 50)\n",
        "#Making training and Testing Data\n",
        "X_train_1, X_test_1, y_train_1, y_test_1 = train_test_split(X_standardized,Y, test_size = 0.3)\n",
        "# Fitting the model\n",
        "hist2 = model_fnl.fit(X_train_1,y_train_1)"
      ]
    },
    {
      "cell_type": "code",
      "execution_count": null,
      "id": "eb8c1bb3",
      "metadata": {
        "ExecuteTime": {
          "end_time": "2023-02-27T15:59:48.834511Z",
          "start_time": "2023-02-27T15:59:48.646785Z"
        },
        "id": "eb8c1bb3",
        "outputId": "5709e81f-a773-463d-f488-4fe7a24f9358"
      },
      "outputs": [
        {
          "name": "stdout",
          "output_type": "stream",
          "text": [
            "7/7 [==============================] - 0s 2ms/step\n",
            "[[ 95  10]\n",
            " [  0 117]]\n",
            "              precision    recall  f1-score   support\n",
            "\n",
            "           0       1.00      0.90      0.95       105\n",
            "           1       0.92      1.00      0.96       117\n",
            "\n",
            "    accuracy                           0.95       222\n",
            "   macro avg       0.96      0.95      0.95       222\n",
            "weighted avg       0.96      0.95      0.95       222\n",
            "\n"
          ]
        }
      ],
      "source": [
        "from sklearn.metrics import confusion_matrix,classification_report,plot_confusion_matrix\n",
        "def report_model(model):\n",
        "    model_preds = model.predict(X_test_1)\n",
        "    print(confusion_matrix(y_test_1,model_preds))\n",
        "    print(classification_report(y_test_1,model_preds))\n",
        "report_model(model_fnl)"
      ]
    },
    {
      "cell_type": "markdown",
      "id": "0613a719",
      "metadata": {
        "id": "0613a719"
      },
      "source": [
        "# -------------------------------------------------------------------------------------------------------"
      ]
    }
  ],
  "metadata": {
    "kernelspec": {
      "display_name": "Python 3 (ipykernel)",
      "language": "python",
      "name": "python3"
    },
    "language_info": {
      "codemirror_mode": {
        "name": "ipython",
        "version": 3
      },
      "file_extension": ".py",
      "mimetype": "text/x-python",
      "name": "python",
      "nbconvert_exporter": "python",
      "pygments_lexer": "ipython3",
      "version": "3.9.13"
    },
    "colab": {
      "provenance": []
    }
  },
  "nbformat": 4,
  "nbformat_minor": 5
}